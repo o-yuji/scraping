{
 "cells": [
  {
   "cell_type": "code",
   "execution_count": 25,
   "metadata": {},
   "outputs": [],
   "source": [
    "from bs4 import BeautifulSoup\n",
    "import requests\n",
    "import pandas as pd"
   ]
  },
  {
   "cell_type": "code",
   "execution_count": 26,
   "metadata": {},
   "outputs": [],
   "source": [
    "url = \"http://192.168.11.5:8808/TestHTML.html\""
   ]
  },
  {
   "cell_type": "code",
   "execution_count": 27,
   "metadata": {},
   "outputs": [],
   "source": [
    "html = requests.get(url).text"
   ]
  },
  {
   "cell_type": "code",
   "execution_count": 28,
   "metadata": {},
   "outputs": [],
   "source": [
    "soup = BeautifulSoup(html,'html.parser')"
   ]
  },
  {
   "cell_type": "code",
   "execution_count": 29,
   "metadata": {},
   "outputs": [
    {
     "name": "stdout",
     "output_type": "stream",
     "text": [
      "清水義孝の著書\n"
     ]
    }
   ],
   "source": [
    "print(soup.html.head.title.string)"
   ]
  },
  {
   "cell_type": "code",
   "execution_count": 30,
   "metadata": {},
   "outputs": [
    {
     "name": "stdout",
     "output_type": "stream",
     "text": [
      "<p class=\"title\">\n",
      "<b>清水義孝の最新の著書には、次の本があります。</b>\n",
      "</p>\n"
     ]
    }
   ],
   "source": [
    "print(soup.body.p)"
   ]
  },
  {
   "cell_type": "code",
   "execution_count": 31,
   "metadata": {},
   "outputs": [
    {
     "name": "stdout",
     "output_type": "stream",
     "text": [
      "https://www.amazon.co.jp/dp/B07TN4D3HG\n"
     ]
    }
   ],
   "source": [
    "print(soup.body.p.next_sibling.next_sibling.a[\"href\"])"
   ]
  },
  {
   "cell_type": "code",
   "execution_count": 32,
   "metadata": {},
   "outputs": [
    {
     "name": "stdout",
     "output_type": "stream",
     "text": [
      "<title>清水義孝の著書</title>\n"
     ]
    }
   ],
   "source": [
    "print(soup.find(\"title\"))"
   ]
  },
  {
   "cell_type": "code",
   "execution_count": 33,
   "metadata": {},
   "outputs": [],
   "source": [
    "a_list = soup.find_all('a')"
   ]
  },
  {
   "cell_type": "code",
   "execution_count": 37,
   "metadata": {},
   "outputs": [
    {
     "name": "stdout",
     "output_type": "stream",
     "text": [
      "Python3によるビジネスに役立つデータ分析入門\n",
      "https://www.amazon.co.jp/dp/B07TN4D3HG\n",
      "よくわかるPython3入門2.NumPy・Matplotlib編\n",
      "http://www.amazon.co.jp/dp/B07SRLRS4M\n",
      "よくわかるPython3入門4.Pandasでデータ分析編\n",
      "http://www.amazon.co.jp/dp/B07T9SZ96B\n"
     ]
    }
   ],
   "source": [
    "for el in a_list:\n",
    "    print(el.string)\n",
    "    print(el['href'])"
   ]
  },
  {
   "cell_type": "code",
   "execution_count": 50,
   "metadata": {},
   "outputs": [
    {
     "name": "stdout",
     "output_type": "stream",
     "text": [
      "そして、これらの本は好評発売中です。\n"
     ]
    }
   ],
   "source": [
    "print(soup.select(\"body > p.end > b\")[0].string)"
   ]
  },
  {
   "cell_type": "code",
   "execution_count": null,
   "metadata": {},
   "outputs": [],
   "source": []
  }
 ],
 "metadata": {
  "kernelspec": {
   "display_name": "Python 3",
   "language": "python",
   "name": "python3"
  },
  "language_info": {
   "codemirror_mode": {
    "name": "ipython",
    "version": 3
   },
   "file_extension": ".py",
   "mimetype": "text/x-python",
   "name": "python",
   "nbconvert_exporter": "python",
   "pygments_lexer": "ipython3",
   "version": "3.10.1"
  },
  "orig_nbformat": 4
 },
 "nbformat": 4,
 "nbformat_minor": 2
}
