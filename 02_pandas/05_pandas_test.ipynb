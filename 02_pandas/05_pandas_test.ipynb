{
 "cells": [
  {
   "cell_type": "code",
   "execution_count": 57,
   "metadata": {},
   "outputs": [],
   "source": [
    "import pandas as pd\n",
    "import requests"
   ]
  },
  {
   "cell_type": "code",
   "execution_count": 58,
   "metadata": {},
   "outputs": [],
   "source": [
    "yahoo_url = \"https://finance.yahoo.com/quote/AAPL/history?p=AAPL\""
   ]
  },
  {
   "cell_type": "code",
   "execution_count": 59,
   "metadata": {},
   "outputs": [],
   "source": [
    "df = pd.read_html(requests.get(yahoo_url,headers={'User-agent':'Chrome/'}).text,header=0)\n",
    "# df = pd.read_html(requests.get(yahoo_url,headers={'User-agent':'Mozilla/5.0'}).text,header=0)"
   ]
  },
  {
   "cell_type": "code",
   "execution_count": 60,
   "metadata": {},
   "outputs": [],
   "source": [
    "df = df[0]\n",
    "# df[0].tail(2)"
   ]
  },
  {
   "cell_type": "code",
   "execution_count": 61,
   "metadata": {},
   "outputs": [],
   "source": [
    "df[\"Adj Close**\"] = pd.to_numeric(df[\"Adj Close**\"],errors=\"coerce\")"
   ]
  },
  {
   "cell_type": "code",
   "execution_count": 62,
   "metadata": {},
   "outputs": [],
   "source": [
    "df=df.dropna()"
   ]
  },
  {
   "cell_type": "code",
   "execution_count": 63,
   "metadata": {},
   "outputs": [
    {
     "data": {
      "text/html": [
       "<div>\n",
       "<style scoped>\n",
       "    .dataframe tbody tr th:only-of-type {\n",
       "        vertical-align: middle;\n",
       "    }\n",
       "\n",
       "    .dataframe tbody tr th {\n",
       "        vertical-align: top;\n",
       "    }\n",
       "\n",
       "    .dataframe thead th {\n",
       "        text-align: right;\n",
       "    }\n",
       "</style>\n",
       "<table border=\"1\" class=\"dataframe\">\n",
       "  <thead>\n",
       "    <tr style=\"text-align: right;\">\n",
       "      <th></th>\n",
       "      <th>Date</th>\n",
       "      <th>Open</th>\n",
       "      <th>High</th>\n",
       "      <th>Low</th>\n",
       "      <th>Close*</th>\n",
       "      <th>Adj Close**</th>\n",
       "      <th>Volume</th>\n",
       "    </tr>\n",
       "  </thead>\n",
       "  <tbody>\n",
       "    <tr>\n",
       "      <th>94</th>\n",
       "      <td>Feb 15, 2023</td>\n",
       "      <td>153.11</td>\n",
       "      <td>155.50</td>\n",
       "      <td>152.88</td>\n",
       "      <td>155.33</td>\n",
       "      <td>155.12</td>\n",
       "      <td>65573800</td>\n",
       "    </tr>\n",
       "    <tr>\n",
       "      <th>95</th>\n",
       "      <td>Feb 14, 2023</td>\n",
       "      <td>152.12</td>\n",
       "      <td>153.77</td>\n",
       "      <td>150.86</td>\n",
       "      <td>153.20</td>\n",
       "      <td>152.99</td>\n",
       "      <td>61707600</td>\n",
       "    </tr>\n",
       "    <tr>\n",
       "      <th>96</th>\n",
       "      <td>Feb 13, 2023</td>\n",
       "      <td>150.95</td>\n",
       "      <td>154.26</td>\n",
       "      <td>150.92</td>\n",
       "      <td>153.85</td>\n",
       "      <td>153.64</td>\n",
       "      <td>62199000</td>\n",
       "    </tr>\n",
       "    <tr>\n",
       "      <th>97</th>\n",
       "      <td>Feb 10, 2023</td>\n",
       "      <td>149.46</td>\n",
       "      <td>151.34</td>\n",
       "      <td>149.22</td>\n",
       "      <td>151.01</td>\n",
       "      <td>150.80</td>\n",
       "      <td>57450700</td>\n",
       "    </tr>\n",
       "    <tr>\n",
       "      <th>99</th>\n",
       "      <td>Feb 09, 2023</td>\n",
       "      <td>153.78</td>\n",
       "      <td>154.33</td>\n",
       "      <td>150.42</td>\n",
       "      <td>150.87</td>\n",
       "      <td>150.43</td>\n",
       "      <td>56007100</td>\n",
       "    </tr>\n",
       "  </tbody>\n",
       "</table>\n",
       "</div>"
      ],
      "text/plain": [
       "            Date    Open    High     Low  Close*  Adj Close**    Volume\n",
       "94  Feb 15, 2023  153.11  155.50  152.88  155.33       155.12  65573800\n",
       "95  Feb 14, 2023  152.12  153.77  150.86  153.20       152.99  61707600\n",
       "96  Feb 13, 2023  150.95  154.26  150.92  153.85       153.64  62199000\n",
       "97  Feb 10, 2023  149.46  151.34  149.22  151.01       150.80  57450700\n",
       "99  Feb 09, 2023  153.78  154.33  150.42  150.87       150.43  56007100"
      ]
     },
     "execution_count": 63,
     "metadata": {},
     "output_type": "execute_result"
    }
   ],
   "source": [
    "df.tail()"
   ]
  },
  {
   "cell_type": "code",
   "execution_count": 64,
   "metadata": {},
   "outputs": [],
   "source": [
    "from datetime import datetime"
   ]
  },
  {
   "cell_type": "code",
   "execution_count": 70,
   "metadata": {},
   "outputs": [],
   "source": [
    "df[\"Date2\"] = [datetime.strptime(i,\"%b %d, %Y\") for i in df[\"Date\"]]"
   ]
  },
  {
   "cell_type": "code",
   "execution_count": 71,
   "metadata": {},
   "outputs": [
    {
     "data": {
      "text/html": [
       "<div>\n",
       "<style scoped>\n",
       "    .dataframe tbody tr th:only-of-type {\n",
       "        vertical-align: middle;\n",
       "    }\n",
       "\n",
       "    .dataframe tbody tr th {\n",
       "        vertical-align: top;\n",
       "    }\n",
       "\n",
       "    .dataframe thead th {\n",
       "        text-align: right;\n",
       "    }\n",
       "</style>\n",
       "<table border=\"1\" class=\"dataframe\">\n",
       "  <thead>\n",
       "    <tr style=\"text-align: right;\">\n",
       "      <th></th>\n",
       "      <th>Date</th>\n",
       "      <th>Open</th>\n",
       "      <th>High</th>\n",
       "      <th>Low</th>\n",
       "      <th>Close*</th>\n",
       "      <th>Adj Close**</th>\n",
       "      <th>Volume</th>\n",
       "      <th>Date2</th>\n",
       "    </tr>\n",
       "  </thead>\n",
       "  <tbody>\n",
       "    <tr>\n",
       "      <th>0</th>\n",
       "      <td>Jun 30, 2023</td>\n",
       "      <td>191.63</td>\n",
       "      <td>194.48</td>\n",
       "      <td>191.26</td>\n",
       "      <td>193.97</td>\n",
       "      <td>193.97</td>\n",
       "      <td>85069600</td>\n",
       "      <td>2023-06-30</td>\n",
       "    </tr>\n",
       "    <tr>\n",
       "      <th>1</th>\n",
       "      <td>Jun 29, 2023</td>\n",
       "      <td>189.08</td>\n",
       "      <td>190.07</td>\n",
       "      <td>188.94</td>\n",
       "      <td>189.59</td>\n",
       "      <td>189.59</td>\n",
       "      <td>46347300</td>\n",
       "      <td>2023-06-29</td>\n",
       "    </tr>\n",
       "    <tr>\n",
       "      <th>2</th>\n",
       "      <td>Jun 28, 2023</td>\n",
       "      <td>187.93</td>\n",
       "      <td>189.90</td>\n",
       "      <td>187.60</td>\n",
       "      <td>189.25</td>\n",
       "      <td>189.25</td>\n",
       "      <td>51216800</td>\n",
       "      <td>2023-06-28</td>\n",
       "    </tr>\n",
       "    <tr>\n",
       "      <th>3</th>\n",
       "      <td>Jun 27, 2023</td>\n",
       "      <td>185.89</td>\n",
       "      <td>188.39</td>\n",
       "      <td>185.67</td>\n",
       "      <td>188.06</td>\n",
       "      <td>188.06</td>\n",
       "      <td>50730800</td>\n",
       "      <td>2023-06-27</td>\n",
       "    </tr>\n",
       "    <tr>\n",
       "      <th>4</th>\n",
       "      <td>Jun 26, 2023</td>\n",
       "      <td>186.83</td>\n",
       "      <td>188.05</td>\n",
       "      <td>185.23</td>\n",
       "      <td>185.27</td>\n",
       "      <td>185.27</td>\n",
       "      <td>48088700</td>\n",
       "      <td>2023-06-26</td>\n",
       "    </tr>\n",
       "  </tbody>\n",
       "</table>\n",
       "</div>"
      ],
      "text/plain": [
       "           Date    Open    High     Low  Close*  Adj Close**    Volume  \\\n",
       "0  Jun 30, 2023  191.63  194.48  191.26  193.97       193.97  85069600   \n",
       "1  Jun 29, 2023  189.08  190.07  188.94  189.59       189.59  46347300   \n",
       "2  Jun 28, 2023  187.93  189.90  187.60  189.25       189.25  51216800   \n",
       "3  Jun 27, 2023  185.89  188.39  185.67  188.06       188.06  50730800   \n",
       "4  Jun 26, 2023  186.83  188.05  185.23  185.27       185.27  48088700   \n",
       "\n",
       "       Date2  \n",
       "0 2023-06-30  \n",
       "1 2023-06-29  \n",
       "2 2023-06-28  \n",
       "3 2023-06-27  \n",
       "4 2023-06-26  "
      ]
     },
     "execution_count": 71,
     "metadata": {},
     "output_type": "execute_result"
    }
   ],
   "source": [
    "df.head()"
   ]
  },
  {
   "cell_type": "code",
   "execution_count": 72,
   "metadata": {},
   "outputs": [],
   "source": [
    "df = df.set_index(\"Date2\")"
   ]
  },
  {
   "cell_type": "code",
   "execution_count": 74,
   "metadata": {},
   "outputs": [
    {
     "data": {
      "text/plain": [
       "Date2\n",
       "2023-06-30    193.97\n",
       "2023-06-29    189.59\n",
       "2023-06-28    189.25\n",
       "2023-06-27    188.06\n",
       "2023-06-26    185.27\n",
       "               ...  \n",
       "2023-02-15    155.12\n",
       "2023-02-14    152.99\n",
       "2023-02-13    153.64\n",
       "2023-02-10    150.80\n",
       "2023-02-09    150.43\n",
       "Name: Adj Close**, Length: 98, dtype: float64"
      ]
     },
     "execution_count": 74,
     "metadata": {},
     "output_type": "execute_result"
    }
   ],
   "source": [
    "df[\"Adj Close**\"]"
   ]
  },
  {
   "cell_type": "code",
   "execution_count": 75,
   "metadata": {},
   "outputs": [
    {
     "data": {
      "text/plain": [
       "dtype('float64')"
      ]
     },
     "execution_count": 75,
     "metadata": {},
     "output_type": "execute_result"
    }
   ],
   "source": [
    "df[\"Adj Close**\"].dtype"
   ]
  },
  {
   "cell_type": "code",
   "execution_count": 76,
   "metadata": {},
   "outputs": [],
   "source": [
    "import matplotlib.pyplot as plt"
   ]
  },
  {
   "cell_type": "code",
   "execution_count": 85,
   "metadata": {},
   "outputs": [
    {
     "data": {
      "image/png": "[encoded data removed]",
      "text/plain": [
       "<Figure size 640x480 with 1 Axes>"
      ]
     },
     "metadata": {},
     "output_type": "display_data"
    }
   ],
   "source": [
    "fig = plt.figure()\n",
    "ax = fig.add_subplot(111)\n",
    "\n",
    "ax.plot(df[\"Adj Close**\"])\n",
    "ax.grid(True)\n",
    "ax.set(\n",
    "    title=\"AAPL Stock\",\n",
    "    xlabel=\"Date\",\n",
    "    ylabel=\"price\",\n",
    ")\n",
    "plt.show()"
   ]
  },
  {
   "cell_type": "code",
   "execution_count": 86,
   "metadata": {},
   "outputs": [],
   "source": [
    "df.to_csv(\"AAPL_PRICE.csv\")"
   ]
  }
 ],
 "metadata": {
  "kernelspec": {
   "display_name": "Python 3",
   "language": "python",
   "name": "python3"
  },
  "language_info": {
   "codemirror_mode": {
    "name": "ipython",
    "version": 3
   },
   "file_extension": ".py",
   "mimetype": "text/x-python",
   "name": "python",
   "nbconvert_exporter": "python",
   "pygments_lexer": "ipython3",
   "version": "3.10.1"
  },
  "orig_nbformat": 4
 },
 "nbformat": 4,
 "nbformat_minor": 2
}
