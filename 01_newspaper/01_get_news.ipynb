{
 "cells": [
  {
   "cell_type": "code",
   "execution_count": 3,
   "metadata": {},
   "outputs": [],
   "source": [
    "from newspaper import Article"
   ]
  },
  {
   "cell_type": "code",
   "execution_count": 4,
   "metadata": {},
   "outputs": [],
   "source": [
    "TARGET_URL = \"https://jp.reuters.com/article/ymtc-china-idJPKBN2YF0EW\""
   ]
  },
  {
   "cell_type": "code",
   "execution_count": 5,
   "metadata": {},
   "outputs": [],
   "source": [
    "article = Article(TARGET_URL)"
   ]
  },
  {
   "cell_type": "code",
   "execution_count": 6,
   "metadata": {},
   "outputs": [],
   "source": [
    "article.download()"
   ]
  },
  {
   "cell_type": "code",
   "execution_count": 7,
   "metadata": {},
   "outputs": [],
   "source": [
    "article.parse()"
   ]
  },
  {
   "cell_type": "code",
   "execution_count": 8,
   "metadata": {},
   "outputs": [
    {
     "data": {
      "text/plain": [
       "datetime.datetime(2023, 6, 29, 7, 47, 57, tzinfo=tzutc())"
      ]
     },
     "execution_count": 8,
     "metadata": {},
     "output_type": "execute_result"
    }
   ],
   "source": [
    "article.publish_date"
   ]
  },
  {
   "cell_type": "code",
   "execution_count": 9,
   "metadata": {},
   "outputs": [
    {
     "data": {
      "text/plain": [
       "['Reuters Staff']"
      ]
     },
     "execution_count": 9,
     "metadata": {},
     "output_type": "execute_result"
    }
   ],
   "source": [
    "article.authors"
   ]
  },
  {
   "cell_type": "code",
   "execution_count": 11,
   "metadata": {},
   "outputs": [
    {
     "data": {
      "text/plain": [
       "'６月２９日、中国のメモリー半導体メーカー、長江存儲科技（ＹＭＴＣ）の陳南翔会長は、世界の半導体産業は激動の時代にあり、地政学や一部の国の国家安全保障上の懸念がグローバル化の脅威になっていると述べた。写真は２月撮影（２０２３年 ロイター/Florence Lo）\\n\\n［上海 ２９日 ロイター］ - 中国のメモリー半導体メーカー、長江存儲科技（ＹＭＴＣ）の陳南翔会長は２９日、世界の半導体産業は激動の時代にあり、地政学や一部の国の国家安全保障上の懸念がグローバル化の脅威になっていると述べた。\\n\\n上海で開幕した半導体関連の展示会「セミコン・チャイナ」の開会式典で述べた。\\n\\n陳氏は、こうした現状を踏まえると、世界の半導体産業が２０３０年までに売上高１兆ドルを達成するという以前の予測を実現できるか疑問が生じると述べた。\\n\\n米政府は昨年、米国の技術が流用される恐れがあるとして、ＹＭＴＣなどの中国企業を事実上の禁輸リストに追加すると発表。ＹＭＴＣは米国のサプライヤーから製品を調達する際に特別な許可が必要となった。'"
      ]
     },
     "execution_count": 11,
     "metadata": {},
     "output_type": "execute_result"
    }
   ],
   "source": [
    "article.text"
   ]
  },
  {
   "cell_type": "code",
   "execution_count": 12,
   "metadata": {},
   "outputs": [
    {
     "data": {
      "text/plain": [
       "'半導体産業、安保懸念がグローバル化の脅威に＝中国ＹＭＴＣ会長'"
      ]
     },
     "execution_count": 12,
     "metadata": {},
     "output_type": "execute_result"
    }
   ],
   "source": [
    "article.title"
   ]
  },
  {
   "cell_type": "code",
   "execution_count": 13,
   "metadata": {},
   "outputs": [
    {
     "name": "stderr",
     "output_type": "stream",
     "text": [
      "[nltk_data] Downloading package punkt to\n",
      "[nltk_data]     C:\\Users\\yuji_\\AppData\\Roaming\\nltk_data...\n",
      "[nltk_data]   Unzipping tokenizers\\punkt.zip.\n"
     ]
    },
    {
     "data": {
      "text/plain": [
       "True"
      ]
     },
     "execution_count": 13,
     "metadata": {},
     "output_type": "execute_result"
    }
   ],
   "source": [
    "import nltk\n",
    "nltk.download('punkt')"
   ]
  },
  {
   "cell_type": "code",
   "execution_count": 14,
   "metadata": {},
   "outputs": [],
   "source": [
    "article.nlp()"
   ]
  },
  {
   "cell_type": "code",
   "execution_count": 15,
   "metadata": {},
   "outputs": [
    {
     "data": {
      "text/plain": [
       "['ロイターflorence',\n",
       " '２９日',\n",
       " '６月２９日中国のメモリー半導体メーカー長江存儲科技ｙｍｔｃの陳南翔会長は世界の半導体産業は激動の時代にあり地政学や一部の国の国家安全保障上の懸念がグローバル化の脅威になっていると述べた写真は２月撮影２０２３年',\n",
       " '中国のメモリー半導体メーカー長江存儲科技ｙｍｔｃの陳南翔会長は２９日世界の半導体産業は激動の時代にあり地政学や一部の国の国家安全保障上の懸念がグローバル化の脅威になっていると述べた上海で開幕した半導体関連の展示会セミコンチャイナの開会式典で述べた陳氏はこうした現状を踏まえると世界の半導体産業が２０３０年までに売上高１兆ドルを達成するという以前の予測を実現できるか疑問が生じると述べた米政府は昨年米国の技術が流用される恐れがあるとしてｙｍｔｃなどの中国企業を事実上の禁輸リストに追加すると発表ｙｍｔｃは米国のサプライヤーから製品を調達する際に特別な許可が必要となった',\n",
       " 'lo上海',\n",
       " '半導体産業安保懸念がグローバル化の脅威に中国ｙｍｔｃ会長',\n",
       " 'ロイター']"
      ]
     },
     "execution_count": 15,
     "metadata": {},
     "output_type": "execute_result"
    }
   ],
   "source": [
    "article.keywords"
   ]
  },
  {
   "cell_type": "code",
   "execution_count": 16,
   "metadata": {},
   "outputs": [
    {
     "data": {
      "text/plain": [
       "'６月２９日、中国のメモリー半導体メーカー、長江存儲科技（ＹＭＴＣ）の陳南翔会長は、世界の半導体産業は激動の時代にあり、地政学や一部の国の国家安全保障上の懸念がグローバル化の脅威になっていると述べた。写真は２月撮影（２０２３年 ロイター/Florence Lo）［上海 ２９日 ロイター］ - 中国のメモリー半導体メーカー、長江存儲科技（ＹＭＴＣ）の陳南翔会長は２９日、世界の半導体産業は激動の時代にあり、地政学や一部の国の国家安全保障上の懸念がグローバル化の脅威になっていると述べた。上海で開幕した半導体関連の展示会「セミコン・チャイナ」の開会式典で述べた。陳氏は、こうした現状を踏まえると、世界の半導体産業が２０３０年までに売上高１兆ドルを達成するという以前の予測を実現できるか疑問が生じると述べた。米政府は昨年、米国の技術が流用される恐れがあるとして、ＹＭＴＣなどの中国企業を事実上の禁輸リストに追加すると発表。ＹＭＴＣは米国のサプライヤーから製品を調達する際に特別な許可が必要となった。'"
      ]
     },
     "execution_count": 16,
     "metadata": {},
     "output_type": "execute_result"
    }
   ],
   "source": [
    "article.summary"
   ]
  },
  {
   "cell_type": "code",
   "execution_count": 17,
   "metadata": {},
   "outputs": [
    {
     "data": {
      "text/plain": [
       "'６月２９日、中国のメモリー半導体メーカー、長江存儲科技（ＹＭＴＣ）の陳南翔会長は、世界の半導体産業は激動の時代にあり、地政学や一部の国の国家安全保障上の懸念がグローバル化の脅威になっていると述べた。写真は２月撮影（２０２３年 ロイター/Florence Lo）［上海 ２９日 ロイター］ - 中国のメモリー半導体メーカー、長江存儲科技（ＹＭＴＣ）の陳南翔会長は２９日、世界の半導体産業は激動の時代にあり、地政学や一部の国の国家安全保障上の懸念がグローバル化の脅威になっていると述べた。上海で開幕した半導体関連の展示会「セミコン・チャイナ」の開会式典で述べた。陳氏は、こうした現状を踏まえると、世界の半導体産業が２０３０年までに売上高１兆ドルを達成するという以前の予測を実現できるか疑問が生じると述べた。米政府は昨年、米国の技術が流用される恐れがあるとして、ＹＭＴＣなどの中国企業を事実上の禁輸リストに追加すると発表。ＹＭＴＣは米国のサプライヤーから製品を調達する際に特別な許可が必要となった。'"
      ]
     },
     "execution_count": 17,
     "metadata": {},
     "output_type": "execute_result"
    }
   ],
   "source": [
    "article.summary.replace(\"\\n\", \"\")"
   ]
  },
  {
   "cell_type": "code",
   "execution_count": null,
   "metadata": {},
   "outputs": [],
   "source": []
  }
 ],
 "metadata": {
  "kernelspec": {
   "display_name": "Python 3",
   "language": "python",
   "name": "python3"
  },
  "language_info": {
   "codemirror_mode": {
    "name": "ipython",
    "version": 3
   },
   "file_extension": ".py",
   "mimetype": "text/x-python",
   "name": "python",
   "nbconvert_exporter": "python",
   "pygments_lexer": "ipython3",
   "version": "3.10.1"
  },
  "orig_nbformat": 4
 },
 "nbformat": 4,
 "nbformat_minor": 2
}
