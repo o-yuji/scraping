{
 "cells": [
  {
   "cell_type": "code",
   "execution_count": 53,
   "metadata": {},
   "outputs": [],
   "source": [
    "import newspaper\n",
    "import csv\n",
    "import datetime"
   ]
  },
  {
   "cell_type": "code",
   "execution_count": 54,
   "metadata": {},
   "outputs": [
    {
     "name": "stdout",
     "output_type": "stream",
     "text": [
      "20230630_article_list.csv\n"
     ]
    }
   ],
   "source": [
    "getdate = datetime.datetime.today().strftime('%Y%m%d')\n",
    "csv_name = f\"{getdate}_article_list.csv\"\n",
    "print(csv_name)"
   ]
  },
  {
   "cell_type": "code",
   "execution_count": 55,
   "metadata": {},
   "outputs": [],
   "source": [
    "URL = \"https://www.itmedia.co.jp/\""
   ]
  },
  {
   "cell_type": "code",
   "execution_count": 56,
   "metadata": {},
   "outputs": [],
   "source": [
    "web_site = newspaper.build(URL,memoize_articles=False)"
   ]
  },
  {
   "cell_type": "code",
   "execution_count": 57,
   "metadata": {},
   "outputs": [
    {
     "data": {
      "text/plain": [
       "20"
      ]
     },
     "execution_count": 57,
     "metadata": {},
     "output_type": "execute_result"
    }
   ],
   "source": [
    "f = open(csv_name,\"w\",encoding=\"cp932\",errors=\"ignoer\")\n",
    "writer = csv.writer(f)\n",
    "header = [\"記事番号\",\"タイトル\",\"URL\",\"サマリー\"]\n",
    "writer.writerow(header)"
   ]
  },
  {
   "cell_type": "code",
   "execution_count": 58,
   "metadata": {},
   "outputs": [
    {
     "name": "stdout",
     "output_type": "stream",
     "text": [
      "NO_0:公金受取口座の登録ミス、デジタル庁が対象者に“修正願い”郵送\n",
      "NO_1:東工大、メールに個人情報1万件を添付して誤送信\n",
      "NO_2:Skeb、“AIイラスト検出AI回避法”の解説記事について情報開示請求 損害賠償請求へ\n",
      "NO_3:伊藤穰一氏、千葉工業大学の学長に\n",
      "NO_4:テレ東、AI Vtuber参入 ChatGPTで性格設定、NFTも活用\n",
      "NO_5:グランデータに業務改善勧告 通知が不十分、委託先が紛らわしいサイトで勧誘\n",
      "NO_6:社労士向けクラウド「社労夢」障害、発生からまもなく1カ月 6月料金請求なしで売上高予想32億円→未定に\n"
     ]
    }
   ],
   "source": [
    "i = 0\n",
    "for article in web_site.articles:\n",
    "    csvlist=[]\n",
    "    article.download()\n",
    "    article.parse()\n",
    "    article.nlp()\n",
    "    print(f\"NO_{i}:{article.title}\")\n",
    "    csvlist.append(str(i))\n",
    "    csvlist.append(article.title)\n",
    "    csvlist.append(article.url)\n",
    "    writer.writerow(csvlist)\n",
    "    if i > 5:\n",
    "        break\n",
    "    i += 1\n",
    "f.close()"
   ]
  }
 ],
 "metadata": {
  "kernelspec": {
   "display_name": "Python 3",
   "language": "python",
   "name": "python3"
  },
  "language_info": {
   "codemirror_mode": {
    "name": "ipython",
    "version": 3
   },
   "file_extension": ".py",
   "mimetype": "text/x-python",
   "name": "python",
   "nbconvert_exporter": "python",
   "pygments_lexer": "ipython3",
   "version": "3.10.1"
  },
  "orig_nbformat": 4
 },
 "nbformat": 4,
 "nbformat_minor": 2
}
