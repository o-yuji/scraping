{
 "cells": [
  {
   "cell_type": "code",
   "execution_count": 1,
   "metadata": {},
   "outputs": [],
   "source": [
    "from selenium import webdriver\n",
    "from selenium.webdriver.common.by import By\n",
    "from selenium.webdriver.common.keys import Keys\n",
    "from selenium.webdriver.chrome.options import Options\n",
    "from time import sleep\n",
    "import datetime\n",
    "import csv"
   ]
  },
  {
   "cell_type": "code",
   "execution_count": 2,
   "metadata": {},
   "outputs": [],
   "source": [
    "options = Options()\n",
    "options.add_argument(\"--headless\")"
   ]
  },
  {
   "cell_type": "code",
   "execution_count": 3,
   "metadata": {},
   "outputs": [
    {
     "name": "stderr",
     "output_type": "stream",
     "text": [
      "C:\\Users\\yuji_\\AppData\\Local\\Temp\\ipykernel_15840\\1423710466.py:2: DeprecationWarning: executable_path has been deprecated, please pass in a Service object\n",
      "  driver = webdriver.Chrome(\"C:\\DATA\\down\\chromedriver\\chromedriver\")\n"
     ]
    }
   ],
   "source": [
    "# driver = webdriver.Chrome(\"C:\\DATA\\down\\chromedriver\\chromedriver\",options=options)\n",
    "driver = webdriver.Chrome(\"C:\\DATA\\down\\chromedriver\\chromedriver\")\n",
    "driver.get(\"https://www.google.com/\")"
   ]
  },
  {
   "cell_type": "code",
   "execution_count": 4,
   "metadata": {},
   "outputs": [],
   "source": [
    "search_bar = driver.find_element(By.NAME,'q')\n",
    "search_bar.send_keys(\"python\")\n",
    "search_bar.submit()"
   ]
  },
  {
   "cell_type": "code",
   "execution_count": 5,
   "metadata": {},
   "outputs": [],
   "source": [
    "csv_filename = f\"{datetime.datetime.today().strftime('%Y%m%d')}_download.csv\""
   ]
  },
  {
   "cell_type": "code",
   "execution_count": 6,
   "metadata": {},
   "outputs": [
    {
     "data": {
      "text/plain": [
       "14"
      ]
     },
     "execution_count": 6,
     "metadata": {},
     "output_type": "execute_result"
    }
   ],
   "source": [
    "f = open(csv_filename,\"w\",encoding='cp932',errors='ignore')\n",
    "writer = csv.writer(f,lineterminator='\\n')\n",
    "csv_header = ['検索順位','タイトル','URL']\n",
    "writer.writerow(csv_header)"
   ]
  },
  {
   "cell_type": "code",
   "execution_count": 7,
   "metadata": {},
   "outputs": [
    {
     "name": "stdout",
     "output_type": "stream",
     "text": [
      "python.jp: プログラミング言語 Python 総合情報サイト\n",
      "https://www.python.jp/\n",
      "Welcome to Python.org\n",
      "https://www.python.org/\n",
      "Python - Wikipedia\n",
      "https://ja.wikipedia.org/wiki/Python\n",
      "Pythonとは？特徴やできることを初心者向けにわかりやすく解説\n",
      "https://www.sejuku.net/blog/7720\n",
      "Python入門\n",
      "https://www.javadrive.jp/python/\n",
      "Python-izm | Python の入門から応用までをサポートする学習 ...\n",
      "https://www.python-izm.com/\n",
      "Pythonとは？言語の特徴・メリット・活用事例を初心…\n",
      "https://udemy.benesse.co.jp/development/python-work/python.html\n",
      "Pythonプログラミング入門\n",
      "https://utokyo-ipp.github.io/\n",
      "Pythonとは？プログラミング言語の概要や用途を徹底解説\n",
      "https://coeteco.jp/articles/10661\n",
      "Download Python\n",
      "https://www.python.org/downloads/\n",
      "［Python入門］Pythonってどんな言語なの？ - ITmedia\n",
      "https://atmarkit.itmedia.co.jp/ait/articles/1904/02/news024.html\n",
      "Pythonとは？初心者向けチュートリアル、開発に役立つ情報\n",
      "https://qiita.com/tags/python\n",
      "新・Python入門編 | プログラミング学習サイト【paizaラーニング】\n",
      "https://paiza.jp/works/python/new-primer\n",
      "とほほのPython入門\n",
      "https://www.tohoho-web.com/python/\n",
      "Pythonの開発環境を用意しよう！（Windows）\n",
      "https://prog-8.com/docs/python-env-win\n",
      "Pythonとは？大人気プログラミング言語のメリットや活用事例を ...\n",
      "https://www.internetacademy.jp/it/programming/programming-basic/what-is-python.html\n",
      "【2023 年最新】0 からわかる Python 入門ロードマップ！\n",
      "https://blog.kikagaku.co.jp/python-roadmap\n",
      "「Python ゼロからはじめるプログラミング」サポートページ\n",
      "https://mitani.cs.tsukuba.ac.jp/book_support/python/\n",
      "Python 1年生 体験してわかる！会話でまなべる！ ...\n",
      "https://www.amazon.co.jp/Python-1%E5%B9%B4%E7%94%9F-%E4%BD%93%E9%A8%93%E3%81%97%E3%81%A6%E3%82%8F%E3%81%8B%E3%82%8B%EF%BC%81%E4%BC%9A%E8%A9%B1%E3%81%A7%E3%81%BE%E3%81%AA%E3%81%B9%E3%82%8B%EF%BC%81%E3%83%97%E3%83%AD%E3%82%B0%E3%83%A9%E3%83%9F%E3%83%B3%E3%82%B0%E3%81%AE%E3%81%97%E3%81%8F%E3%81%BF-%E6%A3%AE-%E5%B7%A7%E5%B0%9A/dp/4798153192\n",
      "プログラミング言語のPythonとは？その特徴と活用方法\n",
      "https://hnavi.co.jp/knowledge/blog/python/\n",
      "「Python」を学んでおけば初心者プログラマーは取りあえずOK\n",
      "https://news.yahoo.co.jp/articles/225b6e2f6ef69b80201a460a358fa0b585a4ea32\n",
      "Python試験・資格、データ分析試験・資格を運営する一般社団 ...\n",
      "https://www.pythonic-exam.com/\n",
      "初心者がPythonで作れるもの5選！すぐに作れるものを徹底解説\n",
      "https://ai-kenkyujo.com/programming/python/python-syoshinsya-tukurerumono/\n",
      "PyQ | Pythonで一歩踏み出すあなたのための、独学 ...\n",
      "https://pyq.jp/\n",
      "Python（プログラミング）の学習ならオンライン動画授業・講座 ...\n",
      "https://schoo.jp/class/category/programming/289\n",
      "Python 言語入門\n",
      "https://www.isc.meiji.ac.jp/~be00085/Python3/index.html\n",
      "Pythonとは？特徴や世の中における活用事例、学習方法 ...\n",
      "https://www.rd.ntt/se/media/article/0074.html\n",
      "Google App Engine での Python\n",
      "https://cloud.google.com/appengine/docs/python?hl=ja\n",
      "Pythonのオンライントレーニングコース\n",
      "https://jp.linkedin.com/learning/topics/python\n",
      "プログラミング言語人気第1位 Pythonでできること5選\n",
      "https://www.youtube.com/watch?v=2FIAadJEZhk\n",
      "Pythonに関する情報 - nkmk note\n",
      "https://note.nkmk.me/python/\n",
      "「Python」インタープリター型プログラミング言語\n",
      "https://forest.watch.impress.co.jp/library/software/python/\n",
      "Python（プログラミング）の学習ならオンライン動画授業・講座 ...\n",
      "https://schoo.jp/class/category/programming/289\n",
      "Python - 奥村研究室\n",
      "https://okumuralab.org/~okumura/python/\n",
      "PyCharm：JetBrainsによるプロ開発者向けPython IDE\n",
      "https://www.jetbrains.com/ja-jp/pycharm/\n",
      "【集合】Python入門 (UJS60L)\n",
      "http://www.knowledgewing.com/cgi-bin/kw/redirect.cgi?c=UJS60L\n",
      "Python学院ーオンラインで学べる\n",
      "https://www.insource.co.jp/bup/python-gakuin.html\n",
      "Pythonコース\n",
      "https://techacademy.jp/course/python\n",
      "Pythonプログラミング入門\n",
      "https://sites.google.com/view/ut-python/\n",
      "Pythonのコース一覧｜CTC教育サービス 研修/トレーニング\n",
      "https://www.school.ctc-g.co.jp/python/\n",
      "Python（パイソン）とは？人気のプログラミング言語について ...\n",
      "https://online.dhw.co.jp/kuritama/about-python/\n",
      "初心者向け Python - Training\n",
      "https://learn.microsoft.com/ja-jp/training/paths/beginner-python/\n",
      "現役シリコンバレーエンジニアが教えるPython 3 入門 + 応用 ...\n",
      "https://www.udemy.com/course/python-beginner/\n",
      "よくわかるPython入門 | FOM出版\n",
      "https://www.fom.fujitsu.com/goods/program/python/fpt2210.html\n",
      "Pythonコース\n",
      "https://www.daily-trial.com/python\n",
      "Pythonエンジニア認定試験 - Odyssey CBT\n",
      "https://cbt.odyssey-com.co.jp/pythonic-exam/index.html\n",
      "【超入門】Pythonとは？できること・基本をわかりやすく解説\n",
      "https://www.kagoya.jp/howto/it-glossary/develop/python/\n",
      "Python学習講座\n",
      "https://www.python.ambitious-engineer.com/\n",
      "Python Tutorial\n",
      "https://www.w3schools.com/python/\n"
     ]
    }
   ],
   "source": [
    "i = 0\n",
    "ranking=1\n",
    "while True:\n",
    "    i = i + 1\n",
    "    sleep(1)\n",
    "    for elem_h3 in driver.find_elements(By.XPATH,\"//a/h3\"):\n",
    "        if (elem_h3.text != \"\"):\n",
    "            csvlist = []\n",
    "            elem_a = elem_h3.find_element(By.XPATH,'..')\n",
    "            csvlist.append(str(ranking))\n",
    "            csvlist.append(elem_h3.text)\n",
    "            csvlist.append(elem_a.get_attribute('href'))\n",
    "            writer.writerow(csvlist)\n",
    "            print(elem_h3.text)\n",
    "            print(elem_a.get_attribute('href'))\n",
    "            ranking = ranking + 1\n",
    "    next_link = driver.find_element(By.ID,\"pnnext\")\n",
    "    driver.get(next_link.get_attribute('href'))\n",
    "    if i > 4:\n",
    "        break\n",
    "f.close()"
   ]
  }
 ],
 "metadata": {
  "kernelspec": {
   "display_name": "Python 3",
   "language": "python",
   "name": "python3"
  },
  "language_info": {
   "codemirror_mode": {
    "name": "ipython",
    "version": 3
   },
   "file_extension": ".py",
   "mimetype": "text/x-python",
   "name": "python",
   "nbconvert_exporter": "python",
   "pygments_lexer": "ipython3",
   "version": "3.10.1"
  },
  "orig_nbformat": 4
 },
 "nbformat": 4,
 "nbformat_minor": 2
}
