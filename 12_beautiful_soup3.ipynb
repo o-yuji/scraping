{
 "cells": [
  {
   "cell_type": "code",
   "execution_count": 1,
   "metadata": {},
   "outputs": [],
   "source": [
    "from bs4 import BeautifulSoup\n",
    "import requests"
   ]
  },
  {
   "cell_type": "code",
   "execution_count": 2,
   "metadata": {},
   "outputs": [],
   "source": [
    "url = \"\"\"\n",
    "<html>\n",
    "    <head>\n",
    "        <title>清水義孝の著書</title>\n",
    "    </head>\n",
    "    <body>\n",
    "        <p class=\"title\">\n",
    "            <b>清水義孝の最新の著書には、次の本があります。</b>\n",
    "        </p>\n",
    "        <p class=\"recent books\">\n",
    "            <a class=\"book\" href=\"https://www.amazon.co.jp/dp/B07TN4D3HG\" id=\"link1\">\n",
    "                Python3によるビジネスに役立つデータ分析入門\n",
    "            </a>\n",
    "            <a class=\"book\" href=\"http://www.amazon.co.jp/dp/B07SRLRS4M\" id=\"link2\">\n",
    "                よくわかるPython3入門2.NumPy・Matplotlib編\n",
    "            </a>\n",
    "            <a class=\"book\" href=\"http://www.amazon.co.jp/dp/B07T9SZ96B\" id=\"link3\">\n",
    "                よくわかるPython3入門4.Pandasでデータ分析編\n",
    "            </a>\n",
    "        </p>\n",
    "        <p class=\"end\">\n",
    "            <b>そして、これらの本は好評発売中です。</b>\n",
    "        </p>\n",
    "    </body>\n",
    "</html>\n",
    "\"\"\""
   ]
  },
  {
   "cell_type": "code",
   "execution_count": 3,
   "metadata": {},
   "outputs": [],
   "source": [
    "soup = BeautifulSoup(url,\"html.parser\")"
   ]
  },
  {
   "cell_type": "code",
   "execution_count": 4,
   "metadata": {},
   "outputs": [
    {
     "name": "stdout",
     "output_type": "stream",
     "text": [
      "<p class=\"title\">\n",
      "<b>清水義孝の最新の著書には、次の本があります。</b>\n",
      "</p>\n",
      "\n",
      "<p class=\"recent books\">\n",
      "<a class=\"book\" href=\"https://www.amazon.co.jp/dp/B07TN4D3HG\" id=\"link1\">\n",
      "                Python3によるビジネスに役立つデータ分析入門\n",
      "            </a>\n",
      "<a class=\"book\" href=\"http://www.amazon.co.jp/dp/B07SRLRS4M\" id=\"link2\">\n",
      "                よくわかるPython3入門2.NumPy・Matplotlib編\n",
      "            </a>\n",
      "<a class=\"book\" href=\"http://www.amazon.co.jp/dp/B07T9SZ96B\" id=\"link3\">\n",
      "                よくわかるPython3入門4.Pandasでデータ分析編\n",
      "            </a>\n",
      "</p>\n",
      "\n",
      "<p class=\"end\">\n",
      "<b>そして、これらの本は好評発売中です。</b>\n",
      "</p>\n",
      "\n"
     ]
    }
   ],
   "source": [
    "for p in soup.body.find_all('p'):\n",
    "  print(p,end='\\n\\n')"
   ]
  },
  {
   "cell_type": "code",
   "execution_count": 5,
   "metadata": {},
   "outputs": [
    {
     "data": {
      "text/plain": [
       "'清水義孝の著書'"
      ]
     },
     "execution_count": 5,
     "metadata": {},
     "output_type": "execute_result"
    }
   ],
   "source": [
    "soup.title.string"
   ]
  },
  {
   "cell_type": "code",
   "execution_count": 6,
   "metadata": {},
   "outputs": [
    {
     "name": "stdout",
     "output_type": "stream",
     "text": [
      "\n",
      "\n",
      "\n",
      "清水義孝の著書\n",
      "\n",
      "\n",
      "\n",
      "清水義孝の最新の著書には、次の本があります。\n",
      "\n",
      "\n",
      "\n",
      "                Python3によるビジネスに役立つデータ分析入門\n",
      "            \n",
      "\n",
      "                よくわかるPython3入門2.NumPy・Matplotlib編\n",
      "            \n",
      "\n",
      "                よくわかるPython3入門4.Pandasでデータ分析編\n",
      "            \n",
      "\n",
      "\n",
      "そして、これらの本は好評発売中です。\n",
      "\n",
      "\n",
      "\n",
      "\n"
     ]
    }
   ],
   "source": [
    "print(soup.get_text())"
   ]
  },
  {
   "cell_type": "code",
   "execution_count": 7,
   "metadata": {},
   "outputs": [
    {
     "data": {
      "text/plain": [
       "['title']"
      ]
     },
     "execution_count": 7,
     "metadata": {},
     "output_type": "execute_result"
    }
   ],
   "source": [
    "soup.body.p[\"class\"]"
   ]
  },
  {
   "cell_type": "code",
   "execution_count": 8,
   "metadata": {},
   "outputs": [
    {
     "data": {
      "text/plain": [
       "['recent', 'books']"
      ]
     },
     "execution_count": 8,
     "metadata": {},
     "output_type": "execute_result"
    }
   ],
   "source": [
    "soup.body.p.next_sibling.next_sibling['class']"
   ]
  },
  {
   "cell_type": "code",
   "execution_count": 9,
   "metadata": {},
   "outputs": [
    {
     "data": {
      "text/plain": [
       "['title']"
      ]
     },
     "execution_count": 9,
     "metadata": {},
     "output_type": "execute_result"
    }
   ],
   "source": [
    "soup.body.p.get('class')"
   ]
  },
  {
   "cell_type": "code",
   "execution_count": 10,
   "metadata": {},
   "outputs": [
    {
     "name": "stdout",
     "output_type": "stream",
     "text": [
      "<html>\n",
      " <head>\n",
      "  <title>\n",
      "   清水義孝の著書\n",
      "  </title>\n",
      " </head>\n",
      " <body>\n",
      "  <p class=\"title\">\n",
      "   <b>\n",
      "    清水義孝の最新の著書には、次の本があります。\n",
      "   </b>\n",
      "  </p>\n",
      "  <p class=\"recent books\">\n",
      "   <a class=\"book\" href=\"https://www.amazon.co.jp/dp/B07TN4D3HG\" id=\"link1\">\n",
      "    Python3によるビジネスに役立つデータ分析入門\n",
      "   </a>\n",
      "   <a class=\"book\" href=\"http://www.amazon.co.jp/dp/B07SRLRS4M\" id=\"link2\">\n",
      "    よくわかるPython3入門2.NumPy・Matplotlib編\n",
      "   </a>\n",
      "   <a class=\"book\" href=\"http://www.amazon.co.jp/dp/B07T9SZ96B\" id=\"link3\">\n",
      "    よくわかるPython3入門4.Pandasでデータ分析編\n",
      "   </a>\n",
      "  </p>\n",
      "  <p class=\"end\">\n",
      "   <b>\n",
      "    そして、これらの本は好評発売中です。\n",
      "   </b>\n",
      "  </p>\n",
      " </body>\n",
      "</html>\n",
      "\n"
     ]
    }
   ],
   "source": [
    "print(soup.prettify())"
   ]
  },
  {
   "cell_type": "code",
   "execution_count": 11,
   "metadata": {},
   "outputs": [
    {
     "name": "stdout",
     "output_type": "stream",
     "text": [
      "\n",
      "\n",
      "\n",
      "<p class=\"title\">\n",
      "<b>清水義孝の最新の著書には、次の本があります。</b>\n",
      "</p>\n",
      "\n",
      "\n",
      "\n",
      "\n",
      "<p class=\"recent books\">\n",
      "<a class=\"book\" href=\"https://www.amazon.co.jp/dp/B07TN4D3HG\" id=\"link1\">\n",
      "                Python3によるビジネスに役立つデータ分析入門\n",
      "            </a>\n",
      "<a class=\"book\" href=\"http://www.amazon.co.jp/dp/B07SRLRS4M\" id=\"link2\">\n",
      "                よくわかるPython3入門2.NumPy・Matplotlib編\n",
      "            </a>\n",
      "<a class=\"book\" href=\"http://www.amazon.co.jp/dp/B07T9SZ96B\" id=\"link3\">\n",
      "                よくわかるPython3入門4.Pandasでデータ分析編\n",
      "            </a>\n",
      "</p>\n",
      "\n",
      "\n",
      "\n",
      "\n",
      "<p class=\"end\">\n",
      "<b>そして、これらの本は好評発売中です。</b>\n",
      "</p>\n",
      "\n",
      "\n",
      "\n",
      "\n"
     ]
    }
   ],
   "source": [
    "for child in soup.body.contents:\n",
    "    print(child,end=\"\\n\\n\")"
   ]
  },
  {
   "cell_type": "code",
   "execution_count": 12,
   "metadata": {},
   "outputs": [
    {
     "name": "stdout",
     "output_type": "stream",
     "text": [
      "\n",
      "\n",
      "['recent', 'books']\n",
      "\n",
      "\n",
      "\n",
      "['title']\n",
      "\n",
      "\n",
      "\n"
     ]
    }
   ],
   "source": [
    "for sibling in soup.body.find(\"p\",class_=\"end\").previous_siblings:\n",
    "    print(sibling[\"class\"] if sibling != \"\\n\" else \"\",end=\"\\n\\n\")"
   ]
  },
  {
   "cell_type": "code",
   "execution_count": 13,
   "metadata": {},
   "outputs": [
    {
     "data": {
      "text/plain": [
       "[<title>清水義孝の著書</title>]"
      ]
     },
     "execution_count": 13,
     "metadata": {},
     "output_type": "execute_result"
    }
   ],
   "source": [
    "soup.find_all(\"title\")"
   ]
  },
  {
   "cell_type": "code",
   "execution_count": 14,
   "metadata": {},
   "outputs": [
    {
     "data": {
      "text/plain": [
       "[<b>清水義孝の最新の著書には、次の本があります。</b>,\n",
       " <a class=\"book\" href=\"https://www.amazon.co.jp/dp/B07TN4D3HG\" id=\"link1\">\n",
       "                 Python3によるビジネスに役立つデータ分析入門\n",
       "             </a>,\n",
       " <a class=\"book\" href=\"http://www.amazon.co.jp/dp/B07SRLRS4M\" id=\"link2\">\n",
       "                 よくわかるPython3入門2.NumPy・Matplotlib編\n",
       "             </a>,\n",
       " <a class=\"book\" href=\"http://www.amazon.co.jp/dp/B07T9SZ96B\" id=\"link3\">\n",
       "                 よくわかるPython3入門4.Pandasでデータ分析編\n",
       "             </a>,\n",
       " <b>そして、これらの本は好評発売中です。</b>]"
      ]
     },
     "execution_count": 14,
     "metadata": {},
     "output_type": "execute_result"
    }
   ],
   "source": [
    "soup.find_all([\"a\",\"b\"])"
   ]
  },
  {
   "cell_type": "code",
   "execution_count": 15,
   "metadata": {},
   "outputs": [],
   "source": [
    "import re"
   ]
  },
  {
   "cell_type": "code",
   "execution_count": 16,
   "metadata": {},
   "outputs": [
    {
     "name": "stdout",
     "output_type": "stream",
     "text": [
      "<body>\n",
      "<p class=\"title\">\n",
      "<b>清水義孝の最新の著書には、次の本があります。</b>\n",
      "</p>\n",
      "<p class=\"recent books\">\n",
      "<a class=\"book\" href=\"https://www.amazon.co.jp/dp/B07TN4D3HG\" id=\"link1\">\n",
      "                Python3によるビジネスに役立つデータ分析入門\n",
      "            </a>\n",
      "<a class=\"book\" href=\"http://www.amazon.co.jp/dp/B07SRLRS4M\" id=\"link2\">\n",
      "                よくわかるPython3入門2.NumPy・Matplotlib編\n",
      "            </a>\n",
      "<a class=\"book\" href=\"http://www.amazon.co.jp/dp/B07T9SZ96B\" id=\"link3\">\n",
      "                よくわかるPython3入門4.Pandasでデータ分析編\n",
      "            </a>\n",
      "</p>\n",
      "<p class=\"end\">\n",
      "<b>そして、これらの本は好評発売中です。</b>\n",
      "</p>\n",
      "</body>\n",
      "\n",
      "<b>清水義孝の最新の著書には、次の本があります。</b>\n",
      "\n",
      "<b>そして、これらの本は好評発売中です。</b>\n",
      "\n"
     ]
    }
   ],
   "source": [
    "for tag in soup.find_all(re.compile(\"^b\")):\n",
    "    print(tag,end=\"\\n\\n\")"
   ]
  },
  {
   "cell_type": "code",
   "execution_count": 17,
   "metadata": {},
   "outputs": [
    {
     "name": "stdout",
     "output_type": "stream",
     "text": [
      "p\n",
      "b\n",
      "p\n",
      "a\n",
      "a\n",
      "a\n",
      "p\n",
      "b\n"
     ]
    }
   ],
   "source": [
    "for tag in soup.body.find_all(True):\n",
    "  print(tag.name)"
   ]
  },
  {
   "cell_type": "code",
   "execution_count": 18,
   "metadata": {},
   "outputs": [],
   "source": [
    "def has_class(tag):\n",
    "    return tag.has_attr('class') and not tag.has_attr('id')"
   ]
  },
  {
   "cell_type": "code",
   "execution_count": 19,
   "metadata": {},
   "outputs": [
    {
     "data": {
      "text/plain": [
       "[<p class=\"title\">\n",
       " <b>清水義孝の最新の著書には、次の本があります。</b>\n",
       " </p>,\n",
       " <p class=\"recent books\">\n",
       " <a class=\"book\" href=\"https://www.amazon.co.jp/dp/B07TN4D3HG\" id=\"link1\">\n",
       "                 Python3によるビジネスに役立つデータ分析入門\n",
       "             </a>\n",
       " <a class=\"book\" href=\"http://www.amazon.co.jp/dp/B07SRLRS4M\" id=\"link2\">\n",
       "                 よくわかるPython3入門2.NumPy・Matplotlib編\n",
       "             </a>\n",
       " <a class=\"book\" href=\"http://www.amazon.co.jp/dp/B07T9SZ96B\" id=\"link3\">\n",
       "                 よくわかるPython3入門4.Pandasでデータ分析編\n",
       "             </a>\n",
       " </p>,\n",
       " <p class=\"end\">\n",
       " <b>そして、これらの本は好評発売中です。</b>\n",
       " </p>]"
      ]
     },
     "execution_count": 19,
     "metadata": {},
     "output_type": "execute_result"
    }
   ],
   "source": [
    "soup.find_all(has_class)"
   ]
  },
  {
   "cell_type": "code",
   "execution_count": 20,
   "metadata": {},
   "outputs": [
    {
     "data": {
      "text/plain": [
       "[<a class=\"book\" href=\"http://www.amazon.co.jp/dp/B07SRLRS4M\" id=\"link2\">\n",
       "                 よくわかるPython3入門2.NumPy・Matplotlib編\n",
       "             </a>]"
      ]
     },
     "execution_count": 20,
     "metadata": {},
     "output_type": "execute_result"
    }
   ],
   "source": [
    "soup.find_all(id=\"link2\")"
   ]
  },
  {
   "cell_type": "code",
   "execution_count": 21,
   "metadata": {},
   "outputs": [
    {
     "data": {
      "text/plain": [
       "[<a class=\"book\" href=\"http://www.amazon.co.jp/dp/B07SRLRS4M\" id=\"link2\">\n",
       "                 よくわかるPython3入門2.NumPy・Matplotlib編\n",
       "             </a>,\n",
       " <a class=\"book\" href=\"http://www.amazon.co.jp/dp/B07T9SZ96B\" id=\"link3\">\n",
       "                 よくわかるPython3入門4.Pandasでデータ分析編\n",
       "             </a>]"
      ]
     },
     "execution_count": 21,
     "metadata": {},
     "output_type": "execute_result"
    }
   ],
   "source": [
    "soup.find_all(href=re.compile(\"http://\"))"
   ]
  },
  {
   "cell_type": "code",
   "execution_count": 22,
   "metadata": {},
   "outputs": [
    {
     "data": {
      "text/plain": [
       "[<a class=\"book\" href=\"https://www.amazon.co.jp/dp/B07TN4D3HG\" id=\"link1\">\n",
       "                 Python3によるビジネスに役立つデータ分析入門\n",
       "             </a>,\n",
       " <a class=\"book\" href=\"http://www.amazon.co.jp/dp/B07SRLRS4M\" id=\"link2\">\n",
       "                 よくわかるPython3入門2.NumPy・Matplotlib編\n",
       "             </a>,\n",
       " <a class=\"book\" href=\"http://www.amazon.co.jp/dp/B07T9SZ96B\" id=\"link3\">\n",
       "                 よくわかるPython3入門4.Pandasでデータ分析編\n",
       "             </a>]"
      ]
     },
     "execution_count": 22,
     "metadata": {},
     "output_type": "execute_result"
    }
   ],
   "source": [
    "soup.find_all(id=True)"
   ]
  },
  {
   "cell_type": "code",
   "execution_count": 23,
   "metadata": {},
   "outputs": [
    {
     "data": {
      "text/plain": [
       "[<a class=\"book\" href=\"https://www.amazon.co.jp/dp/B07TN4D3HG\" id=\"link1\">\n",
       "                 Python3によるビジネスに役立つデータ分析入門\n",
       "             </a>,\n",
       " <a class=\"book\" href=\"http://www.amazon.co.jp/dp/B07SRLRS4M\" id=\"link2\">\n",
       "                 よくわかるPython3入門2.NumPy・Matplotlib編\n",
       "             </a>,\n",
       " <a class=\"book\" href=\"http://www.amazon.co.jp/dp/B07T9SZ96B\" id=\"link3\">\n",
       "                 よくわかるPython3入門4.Pandasでデータ分析編\n",
       "             </a>]"
      ]
     },
     "execution_count": 23,
     "metadata": {},
     "output_type": "execute_result"
    }
   ],
   "source": [
    "soup.find_all(class_=\"book\")"
   ]
  },
  {
   "cell_type": "code",
   "execution_count": 24,
   "metadata": {},
   "outputs": [
    {
     "data": {
      "text/plain": [
       "[<a class=\"book\" href=\"http://www.amazon.co.jp/dp/B07T9SZ96B\" id=\"link3\">\n",
       "                 よくわかるPython3入門4.Pandasでデータ分析編\n",
       "             </a>]"
      ]
     },
     "execution_count": 24,
     "metadata": {},
     "output_type": "execute_result"
    }
   ],
   "source": [
    "soup.find_all(class_=\"book\",id=\"link3\")"
   ]
  },
  {
   "cell_type": "code",
   "execution_count": 25,
   "metadata": {},
   "outputs": [
    {
     "data": {
      "text/plain": [
       "[<a class=\"book\" href=\"http://www.amazon.co.jp/dp/B07SRLRS4M\" id=\"link2\">\n",
       "                 よくわかるPython3入門2.NumPy・Matplotlib編\n",
       "             </a>]"
      ]
     },
     "execution_count": 25,
     "metadata": {},
     "output_type": "execute_result"
    }
   ],
   "source": [
    "soup.find_all(attrs={\"id\":\"link2\"})"
   ]
  },
  {
   "cell_type": "code",
   "execution_count": 26,
   "metadata": {},
   "outputs": [
    {
     "data": {
      "text/plain": [
       "[<html>\n",
       " <head>\n",
       " <title>清水義孝の著書</title>\n",
       " </head>\n",
       " <body>\n",
       " <p class=\"title\">\n",
       " <b>清水義孝の最新の著書には、次の本があります。</b>\n",
       " </p>\n",
       " <p class=\"recent books\">\n",
       " <a class=\"book\" href=\"https://www.amazon.co.jp/dp/B07TN4D3HG\" id=\"link1\">\n",
       "                 Python3によるビジネスに役立つデータ分析入門\n",
       "             </a>\n",
       " <a class=\"book\" href=\"http://www.amazon.co.jp/dp/B07SRLRS4M\" id=\"link2\">\n",
       "                 よくわかるPython3入門2.NumPy・Matplotlib編\n",
       "             </a>\n",
       " <a class=\"book\" href=\"http://www.amazon.co.jp/dp/B07T9SZ96B\" id=\"link3\">\n",
       "                 よくわかるPython3入門4.Pandasでデータ分析編\n",
       "             </a>\n",
       " </p>\n",
       " <p class=\"end\">\n",
       " <b>そして、これらの本は好評発売中です。</b>\n",
       " </p>\n",
       " </body>\n",
       " </html>,\n",
       " <head>\n",
       " <title>清水義孝の著書</title>\n",
       " </head>,\n",
       " <title>清水義孝の著書</title>,\n",
       " <body>\n",
       " <p class=\"title\">\n",
       " <b>清水義孝の最新の著書には、次の本があります。</b>\n",
       " </p>\n",
       " <p class=\"recent books\">\n",
       " <a class=\"book\" href=\"https://www.amazon.co.jp/dp/B07TN4D3HG\" id=\"link1\">\n",
       "                 Python3によるビジネスに役立つデータ分析入門\n",
       "             </a>\n",
       " <a class=\"book\" href=\"http://www.amazon.co.jp/dp/B07SRLRS4M\" id=\"link2\">\n",
       "                 よくわかるPython3入門2.NumPy・Matplotlib編\n",
       "             </a>\n",
       " <a class=\"book\" href=\"http://www.amazon.co.jp/dp/B07T9SZ96B\" id=\"link3\">\n",
       "                 よくわかるPython3入門4.Pandasでデータ分析編\n",
       "             </a>\n",
       " </p>\n",
       " <p class=\"end\">\n",
       " <b>そして、これらの本は好評発売中です。</b>\n",
       " </p>\n",
       " </body>,\n",
       " <p class=\"title\">\n",
       " <b>清水義孝の最新の著書には、次の本があります。</b>\n",
       " </p>,\n",
       " <b>清水義孝の最新の著書には、次の本があります。</b>,\n",
       " <p class=\"recent books\">\n",
       " <a class=\"book\" href=\"https://www.amazon.co.jp/dp/B07TN4D3HG\" id=\"link1\">\n",
       "                 Python3によるビジネスに役立つデータ分析入門\n",
       "             </a>\n",
       " <a class=\"book\" href=\"http://www.amazon.co.jp/dp/B07SRLRS4M\" id=\"link2\">\n",
       "                 よくわかるPython3入門2.NumPy・Matplotlib編\n",
       "             </a>\n",
       " <a class=\"book\" href=\"http://www.amazon.co.jp/dp/B07T9SZ96B\" id=\"link3\">\n",
       "                 よくわかるPython3入門4.Pandasでデータ分析編\n",
       "             </a>\n",
       " </p>,\n",
       " <a class=\"book\" href=\"https://www.amazon.co.jp/dp/B07TN4D3HG\" id=\"link1\">\n",
       "                 Python3によるビジネスに役立つデータ分析入門\n",
       "             </a>,\n",
       " <a class=\"book\" href=\"http://www.amazon.co.jp/dp/B07SRLRS4M\" id=\"link2\">\n",
       "                 よくわかるPython3入門2.NumPy・Matplotlib編\n",
       "             </a>,\n",
       " <a class=\"book\" href=\"http://www.amazon.co.jp/dp/B07T9SZ96B\" id=\"link3\">\n",
       "                 よくわかるPython3入門4.Pandasでデータ分析編\n",
       "             </a>,\n",
       " <p class=\"end\">\n",
       " <b>そして、これらの本は好評発売中です。</b>\n",
       " </p>,\n",
       " <b>そして、これらの本は好評発売中です。</b>]"
      ]
     },
     "execution_count": 26,
     "metadata": {},
     "output_type": "execute_result"
    }
   ],
   "source": [
    "soup.find_all()"
   ]
  },
  {
   "cell_type": "code",
   "execution_count": 27,
   "metadata": {},
   "outputs": [
    {
     "data": {
      "text/plain": [
       "[<a class=\"book\" href=\"http://www.amazon.co.jp/dp/B07SRLRS4M\" id=\"link2\">\n",
       "                 よくわかるPython3入門2.NumPy・Matplotlib編\n",
       "             </a>]"
      ]
     },
     "execution_count": 27,
     "metadata": {},
     "output_type": "execute_result"
    }
   ],
   "source": [
    "soup.find_all(attrs={\"class\":\"book\"},id=\"link2\")"
   ]
  },
  {
   "cell_type": "code",
   "execution_count": 28,
   "metadata": {},
   "outputs": [
    {
     "name": "stdout",
     "output_type": "stream",
     "text": [
      "\n",
      "                Python3によるビジネスに役立つデータ分析入門\n",
      "            \n"
     ]
    }
   ],
   "source": [
    "for el in soup.a:\n",
    "    print(el)"
   ]
  },
  {
   "cell_type": "code",
   "execution_count": 29,
   "metadata": {},
   "outputs": [
    {
     "name": "stderr",
     "output_type": "stream",
     "text": [
      "C:\\Users\\yuji_\\AppData\\Local\\Temp\\ipykernel_21004\\1959403356.py:1: DeprecationWarning: The 'text' argument to find()-type methods is deprecated. Use 'string' instead.\n",
      "  soup.find_all(text=re.compile('Python3'))\n"
     ]
    },
    {
     "data": {
      "text/plain": [
       "['\\n                Python3によるビジネスに役立つデータ分析入門\\n            ',\n",
       " '\\n                よくわかるPython3入門2.NumPy・Matplotlib編\\n            ',\n",
       " '\\n                よくわかるPython3入門4.Pandasでデータ分析編\\n            ']"
      ]
     },
     "execution_count": 29,
     "metadata": {},
     "output_type": "execute_result"
    }
   ],
   "source": [
    "soup.find_all(text=re.compile('Python3'))"
   ]
  },
  {
   "cell_type": "code",
   "execution_count": 30,
   "metadata": {},
   "outputs": [
    {
     "data": {
      "text/plain": [
       "[<a class=\"book\" href=\"https://www.amazon.co.jp/dp/B07TN4D3HG\" id=\"link1\">\n",
       "                 Python3によるビジネスに役立つデータ分析入門\n",
       "             </a>,\n",
       " <a class=\"book\" href=\"http://www.amazon.co.jp/dp/B07SRLRS4M\" id=\"link2\">\n",
       "                 よくわかるPython3入門2.NumPy・Matplotlib編\n",
       "             </a>]"
      ]
     },
     "execution_count": 30,
     "metadata": {},
     "output_type": "execute_result"
    }
   ],
   "source": [
    "soup.find_all(\"a\",limit=2)"
   ]
  },
  {
   "cell_type": "code",
   "execution_count": 31,
   "metadata": {},
   "outputs": [
    {
     "data": {
      "text/plain": [
       "[<a class=\"book\" href=\"https://www.amazon.co.jp/dp/B07TN4D3HG\" id=\"link1\">\n",
       "                 Python3によるビジネスに役立つデータ分析入門\n",
       "             </a>,\n",
       " <a class=\"book\" href=\"http://www.amazon.co.jp/dp/B07SRLRS4M\" id=\"link2\">\n",
       "                 よくわかるPython3入門2.NumPy・Matplotlib編\n",
       "             </a>,\n",
       " <a class=\"book\" href=\"http://www.amazon.co.jp/dp/B07T9SZ96B\" id=\"link3\">\n",
       "                 よくわかるPython3入門4.Pandasでデータ分析編\n",
       "             </a>]"
      ]
     },
     "execution_count": 31,
     "metadata": {},
     "output_type": "execute_result"
    }
   ],
   "source": [
    "soup.body.p.next_sibling.next_sibling.find_all(\"a\")"
   ]
  },
  {
   "cell_type": "code",
   "execution_count": 42,
   "metadata": {},
   "outputs": [
    {
     "data": {
      "text/plain": [
       "'清水義孝の著書'"
      ]
     },
     "execution_count": 42,
     "metadata": {},
     "output_type": "execute_result"
    }
   ],
   "source": [
    "soup.select(\"title\")[0].string"
   ]
  },
  {
   "cell_type": "code",
   "execution_count": 43,
   "metadata": {},
   "outputs": [
    {
     "data": {
      "text/plain": [
       "[<p class=\"end\">\n",
       " <b>そして、これらの本は好評発売中です。</b>\n",
       " </p>]"
      ]
     },
     "execution_count": 43,
     "metadata": {},
     "output_type": "execute_result"
    }
   ],
   "source": [
    "soup.select(\".end\")"
   ]
  },
  {
   "cell_type": "code",
   "execution_count": 44,
   "metadata": {},
   "outputs": [
    {
     "data": {
      "text/plain": [
       "[<p class=\"end\">\n",
       " <b>そして、これらの本は好評発売中です。</b>\n",
       " </p>]"
      ]
     },
     "execution_count": 44,
     "metadata": {},
     "output_type": "execute_result"
    }
   ],
   "source": [
    "soup.select('p.end')"
   ]
  },
  {
   "cell_type": "code",
   "execution_count": 45,
   "metadata": {},
   "outputs": [
    {
     "data": {
      "text/plain": [
       "[<p class=\"recent books\">\n",
       " <a class=\"book\" href=\"https://www.amazon.co.jp/dp/B07TN4D3HG\" id=\"link1\">\n",
       "                 Python3によるビジネスに役立つデータ分析入門\n",
       "             </a>\n",
       " <a class=\"book\" href=\"http://www.amazon.co.jp/dp/B07SRLRS4M\" id=\"link2\">\n",
       "                 よくわかるPython3入門2.NumPy・Matplotlib編\n",
       "             </a>\n",
       " <a class=\"book\" href=\"http://www.amazon.co.jp/dp/B07T9SZ96B\" id=\"link3\">\n",
       "                 よくわかるPython3入門4.Pandasでデータ分析編\n",
       "             </a>\n",
       " </p>]"
      ]
     },
     "execution_count": 45,
     "metadata": {},
     "output_type": "execute_result"
    }
   ],
   "source": [
    "soup.select(\".recent.books\")"
   ]
  },
  {
   "cell_type": "code",
   "execution_count": 46,
   "metadata": {},
   "outputs": [
    {
     "data": {
      "text/plain": [
       "[<a class=\"book\" href=\"http://www.amazon.co.jp/dp/B07SRLRS4M\" id=\"link2\">\n",
       "                 よくわかるPython3入門2.NumPy・Matplotlib編\n",
       "             </a>]"
      ]
     },
     "execution_count": 46,
     "metadata": {},
     "output_type": "execute_result"
    }
   ],
   "source": [
    "soup.select(\"#link2\")"
   ]
  },
  {
   "cell_type": "code",
   "execution_count": 47,
   "metadata": {},
   "outputs": [
    {
     "data": {
      "text/plain": [
       "[<a class=\"book\" href=\"https://www.amazon.co.jp/dp/B07TN4D3HG\" id=\"link1\">\n",
       "                 Python3によるビジネスに役立つデータ分析入門\n",
       "             </a>,\n",
       " <a class=\"book\" href=\"http://www.amazon.co.jp/dp/B07SRLRS4M\" id=\"link2\">\n",
       "                 よくわかるPython3入門2.NumPy・Matplotlib編\n",
       "             </a>,\n",
       " <a class=\"book\" href=\"http://www.amazon.co.jp/dp/B07T9SZ96B\" id=\"link3\">\n",
       "                 よくわかるPython3入門4.Pandasでデータ分析編\n",
       "             </a>]"
      ]
     },
     "execution_count": 47,
     "metadata": {},
     "output_type": "execute_result"
    }
   ],
   "source": [
    "soup.select(\"a[href*='amazon']\")"
   ]
  },
  {
   "cell_type": "code",
   "execution_count": 48,
   "metadata": {},
   "outputs": [
    {
     "data": {
      "text/plain": [
       "[<a class=\"book\" href=\"https://www.amazon.co.jp/dp/B07TN4D3HG\" id=\"link1\">\n",
       "                 Python3によるビジネスに役立つデータ分析入門\n",
       "             </a>]"
      ]
     },
     "execution_count": 48,
     "metadata": {},
     "output_type": "execute_result"
    }
   ],
   "source": [
    "soup.select(\"a[href^='https://']\")"
   ]
  },
  {
   "cell_type": "code",
   "execution_count": 50,
   "metadata": {},
   "outputs": [
    {
     "data": {
      "text/plain": [
       "[<a class=\"book\" href=\"http://www.amazon.co.jp/dp/B07SRLRS4M\" id=\"link2\">\n",
       "                 よくわかるPython3入門2.NumPy・Matplotlib編\n",
       "             </a>]"
      ]
     },
     "execution_count": 50,
     "metadata": {},
     "output_type": "execute_result"
    }
   ],
   "source": [
    "soup.select(\"a[href$='4M']\")"
   ]
  },
  {
   "cell_type": "code",
   "execution_count": 60,
   "metadata": {},
   "outputs": [
    {
     "data": {
      "text/plain": [
       "[<p class=\"end\">\n",
       " <b>そして、これらの本は好評発売中です。</b>\n",
       " </p>]"
      ]
     },
     "execution_count": 60,
     "metadata": {},
     "output_type": "execute_result"
    }
   ],
   "source": [
    "soup.select(\"body > p.end\")"
   ]
  },
  {
   "cell_type": "code",
   "execution_count": 61,
   "metadata": {},
   "outputs": [
    {
     "data": {
      "text/plain": [
       "[<p class=\"recent books\">\n",
       " <a class=\"book\" href=\"https://www.amazon.co.jp/dp/B07TN4D3HG\" id=\"link1\">\n",
       "                 Python3によるビジネスに役立つデータ分析入門\n",
       "             </a>\n",
       " <a class=\"book\" href=\"http://www.amazon.co.jp/dp/B07SRLRS4M\" id=\"link2\">\n",
       "                 よくわかるPython3入門2.NumPy・Matplotlib編\n",
       "             </a>\n",
       " <a class=\"book\" href=\"http://www.amazon.co.jp/dp/B07T9SZ96B\" id=\"link3\">\n",
       "                 よくわかるPython3入門4.Pandasでデータ分析編\n",
       "             </a>\n",
       " </p>]"
      ]
     },
     "execution_count": 61,
     "metadata": {},
     "output_type": "execute_result"
    }
   ],
   "source": [
    "soup.select(\"p.title + p\")"
   ]
  },
  {
   "cell_type": "code",
   "execution_count": 63,
   "metadata": {},
   "outputs": [
    {
     "data": {
      "text/plain": [
       "[<p class=\"recent books\">\n",
       " <a class=\"book\" href=\"https://www.amazon.co.jp/dp/B07TN4D3HG\" id=\"link1\">\n",
       "                 Python3によるビジネスに役立つデータ分析入門\n",
       "             </a>\n",
       " <a class=\"book\" href=\"http://www.amazon.co.jp/dp/B07SRLRS4M\" id=\"link2\">\n",
       "                 よくわかるPython3入門2.NumPy・Matplotlib編\n",
       "             </a>\n",
       " <a class=\"book\" href=\"http://www.amazon.co.jp/dp/B07T9SZ96B\" id=\"link3\">\n",
       "                 よくわかるPython3入門4.Pandasでデータ分析編\n",
       "             </a>\n",
       " </p>,\n",
       " <p class=\"end\">\n",
       " <b>そして、これらの本は好評発売中です。</b>\n",
       " </p>]"
      ]
     },
     "execution_count": 63,
     "metadata": {},
     "output_type": "execute_result"
    }
   ],
   "source": [
    "soup.select('p.title ~ p')"
   ]
  },
  {
   "cell_type": "code",
   "execution_count": 64,
   "metadata": {},
   "outputs": [],
   "source": [
    "list_html =\"\"\"\n",
    "<html>\n",
    "    <head>\n",
    "        <title>清水義孝の著書</title>\n",
    "    </head>\n",
    "    <body>\n",
    "        <p class=\"title\">\n",
    "            <b>清水義孝の最新の著書には、次の本があります。</b>\n",
    "        </p>\n",
    "        <ul class=\"book\">\n",
    "          <li>Python3によるビジネスに役立つデータ分析入門</li>\n",
    "          <li>よくわかるPython3入門1.基礎編</li>\n",
    "          <li>よくわかるPython3入門2.NumPy・Matplotlib編</li>\n",
    "          <li>よくわかるPython3入門4.Pandasでデータ分析編</li>\n",
    "        </ul>\n",
    "        <p class=\"end\">\n",
    "            <b>そして、これらの本は好評発売中です。</b>\n",
    "        </p>\n",
    "    </body>\n",
    "</html>\n",
    "\"\"\""
   ]
  },
  {
   "cell_type": "code",
   "execution_count": 65,
   "metadata": {},
   "outputs": [],
   "source": [
    "soup = BeautifulSoup(list_html,'html.parser')"
   ]
  },
  {
   "cell_type": "code",
   "execution_count": 66,
   "metadata": {},
   "outputs": [
    {
     "data": {
      "text/plain": [
       "[<li>Python3によるビジネスに役立つデータ分析入門</li>,\n",
       " <li>よくわかるPython3入門1.基礎編</li>,\n",
       " <li>よくわかるPython3入門2.NumPy・Matplotlib編</li>,\n",
       " <li>よくわかるPython3入門4.Pandasでデータ分析編</li>]"
      ]
     },
     "execution_count": 66,
     "metadata": {},
     "output_type": "execute_result"
    }
   ],
   "source": [
    "soup.select('ul.book > li')"
   ]
  },
  {
   "cell_type": "code",
   "execution_count": 67,
   "metadata": {},
   "outputs": [
    {
     "data": {
      "text/plain": [
       "[<li>Python3によるビジネスに役立つデータ分析入門</li>]"
      ]
     },
     "execution_count": 67,
     "metadata": {},
     "output_type": "execute_result"
    }
   ],
   "source": [
    "soup.select('ul.book > li:nth-of-type(1)')"
   ]
  },
  {
   "cell_type": "code",
   "execution_count": 68,
   "metadata": {},
   "outputs": [
    {
     "data": {
      "text/plain": [
       "[<li>よくわかるPython3入門1.基礎編</li>]"
      ]
     },
     "execution_count": 68,
     "metadata": {},
     "output_type": "execute_result"
    }
   ],
   "source": [
    "soup.select('ul.book > li:nth-of-type(2)')"
   ]
  },
  {
   "cell_type": "code",
   "execution_count": null,
   "metadata": {},
   "outputs": [],
   "source": []
  }
 ],
 "metadata": {
  "kernelspec": {
   "display_name": "Python 3",
   "language": "python",
   "name": "python3"
  },
  "language_info": {
   "codemirror_mode": {
    "name": "ipython",
    "version": 3
   },
   "file_extension": ".py",
   "mimetype": "text/x-python",
   "name": "python",
   "nbconvert_exporter": "python",
   "pygments_lexer": "ipython3",
   "version": "3.10.1"
  },
  "orig_nbformat": 4
 },
 "nbformat": 4,
 "nbformat_minor": 2
}
