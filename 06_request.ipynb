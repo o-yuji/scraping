{
 "cells": [
  {
   "cell_type": "code",
   "execution_count": 1,
   "metadata": {},
   "outputs": [],
   "source": [
    "import requests\n",
    "import pandas as pd"
   ]
  },
  {
   "cell_type": "code",
   "execution_count": 2,
   "metadata": {},
   "outputs": [],
   "source": [
    "URL = \"https://www.yahoo.co.jp/\""
   ]
  },
  {
   "cell_type": "code",
   "execution_count": 3,
   "metadata": {},
   "outputs": [
    {
     "data": {
      "text/plain": [
       "200"
      ]
     },
     "execution_count": 3,
     "metadata": {},
     "output_type": "execute_result"
    }
   ],
   "source": [
    "res = requests.get(URL)\n",
    "res.status_code"
   ]
  },
  {
   "cell_type": "code",
   "execution_count": 8,
   "metadata": {},
   "outputs": [
    {
     "data": {
      "text/plain": [
       "{'Server': 'nginx', 'Date': 'Sat, 01 Jul 2023 23:47:41 GMT', 'Content-Type': 'text/html; charset=UTF-8', 'Accept-Ranges': 'none', 'Cache-Control': 'private, no-cache, no-store, must-revalidate', 'Content-Encoding': 'gzip', 'Expires': '-1', 'Pragma': 'no-cache', 'Set-Cookie': 'B=8pk3hc9ia1eot&b=3&s=dc; expires=Tue, 01-Jul-2025 23:47:41 GMT; path=/; domain=.yahoo.co.jp; Secure, XB=8pk3hc9ia1eot&b=3&s=dc; expires=Tue, 01-Jul-2025 23:47:41 GMT; path=/; domain=.yahoo.co.jp; secure; samesite=none', 'Vary': 'Accept-Encoding', 'X-Content-Type-Options': 'nosniff', 'X-Frame-Options': 'SAMEORIGIN', 'X-Vcap-Request-Id': 'e3150f7d-f704-4280-7397-4297888469b2', 'X-Xss-Protection': '1; mode=block', 'Age': '0', 'Transfer-Encoding': 'chunked', 'Connection': 'keep-alive', 'Accept-CH': 'Sec-CH-UA-Full-Version-List, Sec-CH-UA-Model, Sec-CH-UA-Platform-Version, Sec-CH-UA-Arch', 'Permissions-Policy': 'ch-ua-full-version-list=*, ch-ua-model=*, ch-ua-platform-version=*, ch-ua-arch=*'}"
      ]
     },
     "execution_count": 8,
     "metadata": {},
     "output_type": "execute_result"
    }
   ],
   "source": [
    "res.headers"
   ]
  },
  {
   "cell_type": "code",
   "execution_count": 9,
   "metadata": {},
   "outputs": [
    {
     "name": "stdout",
     "output_type": "stream",
     "text": [
      "Server:nginx\n",
      "Date:Sat, 01 Jul 2023 23:47:41 GMT\n",
      "Content-Type:text/html; charset=UTF-8\n",
      "Accept-Ranges:none\n",
      "Cache-Control:private, no-cache, no-store, must-revalidate\n",
      "Content-Encoding:gzip\n",
      "Expires:-1\n",
      "Pragma:no-cache\n",
      "Set-Cookie:B=8pk3hc9ia1eot&b=3&s=dc; expires=Tue, 01-Jul-2025 23:47:41 GMT; path=/; domain=.yahoo.co.jp; Secure, XB=8pk3hc9ia1eot&b=3&s=dc; expires=Tue, 01-Jul-2025 23:47:41 GMT; path=/; domain=.yahoo.co.jp; secure; samesite=none\n",
      "Vary:Accept-Encoding\n",
      "X-Content-Type-Options:nosniff\n",
      "X-Frame-Options:SAMEORIGIN\n",
      "X-Vcap-Request-Id:e3150f7d-f704-4280-7397-4297888469b2\n",
      "X-Xss-Protection:1; mode=block\n",
      "Age:0\n",
      "Transfer-Encoding:chunked\n",
      "Connection:keep-alive\n",
      "Accept-CH:Sec-CH-UA-Full-Version-List, Sec-CH-UA-Model, Sec-CH-UA-Platform-Version, Sec-CH-UA-Arch\n",
      "Permissions-Policy:ch-ua-full-version-list=*, ch-ua-model=*, ch-ua-platform-version=*, ch-ua-arch=*\n"
     ]
    }
   ],
   "source": [
    "for key,val in res.headers.items():\n",
    "    print(f\"{key}:{val}\")"
   ]
  },
  {
   "cell_type": "code",
   "execution_count": 10,
   "metadata": {},
   "outputs": [
    {
     "data": {
      "text/plain": [
       "<RequestsCookieJar[Cookie(version=0, name='B', value='8pk3hc9ia1eot&b=3&s=dc', port=None, port_specified=False, domain='.yahoo.co.jp', domain_specified=True, domain_initial_dot=True, path='/', path_specified=True, secure=True, expires=1751413661, discard=False, comment=None, comment_url=None, rest={}, rfc2109=False), Cookie(version=0, name='XB', value='8pk3hc9ia1eot&b=3&s=dc', port=None, port_specified=False, domain='.yahoo.co.jp', domain_specified=True, domain_initial_dot=True, path='/', path_specified=True, secure=True, expires=1751413661, discard=False, comment=None, comment_url=None, rest={'samesite': 'none'}, rfc2109=False)]>"
      ]
     },
     "execution_count": 10,
     "metadata": {},
     "output_type": "execute_result"
    }
   ],
   "source": [
    "res.cookies"
   ]
  },
  {
   "cell_type": "code",
   "execution_count": 14,
   "metadata": {},
   "outputs": [],
   "source": [
    "user_agent = \"Mozilla/5.0 (Windows NT 10.0; Win64; x64) AppleWebKit/537.36 (KHTML, like Gecko) Chrome/114.0.0.0 Safari/537.36\"\n",
    "header = {'user-agent':user_agent}\n",
    "res = requests.get(URL,header)"
   ]
  },
  {
   "cell_type": "code",
   "execution_count": 15,
   "metadata": {},
   "outputs": [
    {
     "data": {
      "text/plain": [
       "200"
      ]
     },
     "execution_count": 15,
     "metadata": {},
     "output_type": "execute_result"
    }
   ],
   "source": [
    "res.status_code"
   ]
  },
  {
   "cell_type": "code",
   "execution_count": 16,
   "metadata": {},
   "outputs": [
    {
     "data": {
      "text/plain": [
       "'<!DOCTYPE html><html lang=\"ja\"><head><meta charSet=\"utf-8\"/><meta http-equiv=\"X-UA-Compatible\" content=\"IE=edge,chrome=1\"/><title>Yahoo! JAPAN</title><meta name=\"description\" content=\"あなたの毎日をアップデートする情報ポータル。検索、ニュース、天気、スポーツ、メール、ショッピング、オークションなど便利なサービスを展開しています。\"/><meta name=\"robots\" content=\"noodp\"/><meta name=\"viewport\" content=\"width=1010\"/><link rel=\"dns-prefetch\" href=\"//s.yimg.jp\"/><link rel=\"dns-prefetch\" href=\"//yads.c.yimg.jp\"/><meta name=\"google-site-verification\" content=\"fsLMOiigp5fIpCDMEVodQnQC7jIY1K3UXW5QkQcBmVs\"/><link rel=\"alternate\" href=\"android-app://jp.co.yahoo.android.yjtop/yahoojapan/home/top\"/><link rel=\"alternate\" media=\"only screen and (max-width: 640px)\" href=\"https://m.yahoo.co.jp/\"/><link rel=\"canonical\" href=\"https://www.yahoo.co.jp/\"/><link rel=\"shortcut icon\" href=\"https://s.yimg.jp/c/icon/s/bsc/2.0/favicon.ico\" type=\"image/vnd.microsoft.icon\"/><link rel=\"icon\" href=\"https://s.yimg.jp/c/icon/s/bsc/2.0/favicon.ico\" type=\"image/vnd.microsoft.icon\"/><link rel=\"apple-touch-icon\" href=\"https://s.yimg.jp/c/icon/s/bsc/2.0/y120.png\"/><meta property=\"og:title\" content=\"Yahoo! JAPAN\"/><meta property=\"og:type\" content=\"website\"/><meta property=\"og:url\" content=\"https://www.yahoo.co.jp/\"/><meta property=\"og:image\" content=\"https://s.yimg.jp/images/top/ogp/fb_y_1500px.png\"/><meta property=\"og:description\" content=\"あなたの毎日をアップデートする情報ポータル。検索、ニュース、天気、スポーツ、メール、ショッピング、オークションなど便利なサービスを展開しています。\"/><meta property=\"og:site_name\" content=\"Yahoo! JAPAN\"/><meta property=\"twitter:card\" content=\"summary_large_image\"/><meta property=\"twitter:site\" content=\"@Yahoo_JAPAN_PR\"/><meta property=\"twitter:image\" content=\"https://s.yimg.jp/images/top/ogp/tw_y_1400px.png\"/><meta property=\"fb:app_id\" content=\"472870002762883\"/><link rel=\"stylesheet\" href=\"//s.yimg.jp/images/yjtop-pc/orion/v163/bundle_v163.css\"/><script>window.onbeforeunload = function() {}</script><script>\\n            var TLDataContext = {\\n              ual : {\\n                pageview : {\\n                  service: \"toppage\",\\n                  apptype: \"web\",\\n                  opttype: \"pc\",\\n                  hierarchy_id: \"2079181999\",\\n                  content_id : \\'\\',\\n                  id_type : \\'\\',\\n                  nopv : \\'false\\',\\n                  mtestid: \"\",\\n                  ss_join_id : \\'\\',\\n                  ss_join_id_type : \\'\\',\\n                }\\n              }\\n            };</script><script>(function () {\\n              var tagjs = document.createElement(\"script\");\\n              var s = document.getElementsByTagName(\"script\")[0];\\n              tagjs.async = true;\\n              tagjs.src = \"https://s.yjtag.jp/tag.js#site=2wzBV9u\";\\n              s.parentNode.insertBefore(tagjs, s);\\n            }());</script><script src=\"https://yads.c.yimg.jp/js/yads-async.js\"></script><link rel=\"preconnect\" href=\"//logql.yahoo.co.jp\"/><link rel=\"preconnect\" href=\"//yjtag.yahoo.co.jp\"/><link rel=\"preconnect\" href=\"//yeas.yahoo.co.jp\"/><link rel=\"preconnect\" href=\"//cas.criteo.com\"/><link rel=\"preconnect\" href=\"//ybx-test.yahoo.co.jp\"/><link rel=\"preconnect\" href=\"//quriosity.yahoo.co.jp\"/></head><body><noscript><iframe title=\"PageCount\" src=\"https://b.yjtag.jp/iframe?c=2wzBV9u\" width=\"1\" height=\"1\" frameBorder=\"0\" scrolling=\"no\" marginHeight=\"0\" marginWidth=\"0\"></iframe></noscript><script>bucket_id_for_ad = \\'\\'; bucket_ids = \\'\\';</script><script>window.YAHOO = window.YAHOO || {};\\n              window.YAHOO.JP = window.YAHOO.JP || {};\\n              window.YAHOO.JP.Fp = window.YAHOO.JP.Fp || {};\\n              window.YAHOO.JP.Fp.ads = window.YAHOO.JP.Fp.ads || {};\\n              window.YAHOO.JP.Fp.ads.sidehide = true;</script><div id=\"wrapper\" class=\"_1DyDVN-3FsqGF_QKLg1M9G\" data-rma-pos=\"GYJ\"><div id=\"ContentWrapper\"><header class=\"_2ZLZK6xsD6ls7W_ryou_ED\"><div id=\"Masthead\" class=\"_1mo4G7fxHMqUog3vJGxY2_ ult__mods\"><h1 class=\"_3YIqBohnzWyU3NQ8zb-mQI _1dr5aVDbNPF63JCS2bJhij\"><a class=\"yMWCYupQNdgppL-NV6sMi _3sAlKGsIBCxTUbNi86oSjt\" href=\"https://www.yahoo.co.jp\" data-cl-params=\"_cl_vmodule:header;_cl_link:logo;_cl_position:0\">Yahoo! JAPAN</a></h1><div class=\"_15h66qPnVy4iQzPepgAaiY\"><ul class=\"_6iDyy-CUks251J9k1epBP\"><li class=\"_3gsf81y-6_ZDi-j-tMaVHe\"><a class=\"yMWCYupQNdgppL-NV6sMi _3sAlKGsIBCxTUbNi86oSjt\" href=\"https://rdr.yahoo.co.jp/v1/label=L3ByZW1pdW0veXRvcC9pY29uLw/p=premium_datalake/d=premium_redirect/tk=8d38b1c7-f7b7-4450-9332-535e226244ff/ru=aHR0cHM6Ly9wcmVtaXVtLnlhaG9vLmNvLmpwLw/\" data-cl-params=\"_cl_vmodule:header;_cl_link:premium;_cl_position:0\" aria-label=\"プレミアムへ遷移する\"><p class=\"oLvk9L5Yk-9JOuzi-OHW5\"><span class=\"t_jb9bKlgIcajcRS2hZAP\">プレミアム</span><span class=\"_2Uq6Pw5lfFfxr_OD36xHp6 _1dr5aVDbNPF63JCS2bJhij Y8gFtzzcdGMdFngRO9qFV\" style=\"width:36px;height:36px\"></span></p></a></li><li class=\"_3gsf81y-6_ZDi-j-tMaVHe\"><a class=\"yMWCYupQNdgppL-NV6sMi _3sAlKGsIBCxTUbNi86oSjt\" href=\"https://www.paypay-card.co.jp?utm_source=YTOP&amp;utm_medium=mhd&amp;utm_campaign=pc\" data-cl-params=\"_cl_vmodule:header;_cl_link:paypaycard;_cl_position:0\" aria-label=\"カードへ遷移する\"><p class=\"oLvk9L5Yk-9JOuzi-OHW5\"><span class=\"t_jb9bKlgIcajcRS2hZAP\">カード</span><span class=\"_2Uq6Pw5lfFfxr_OD36xHp6 _1dr5aVDbNPF63JCS2bJhij P1WzQfoRll3q8GIGneUYg\" style=\"width:36px;height:38px\"></span></p></a></li><li class=\"_3gsf81y-6_ZDi-j-tMaVHe\"><a class=\"yMWCYupQNdgppL-NV6sMi _3sAlKGsIBCxTUbNi86oSjt\" href=\"https://mail.yahoo.co.jp/\" data-cl-params=\"_cl_vmodule:header;_cl_link:mail;_cl_position:0\" aria-label=\"メールへ遷移する\"><p class=\"oLvk9L5Yk-9JOuzi-OHW5\"><span class=\"t_jb9bKlgIcajcRS2hZAP\">メール</span><span class=\"_2Uq6Pw5lfFfxr_OD36xHp6 _1dr5aVDbNPF63JCS2bJhij _3Qi5P0lTFbNkWishPzz8tb\" style=\"width:36px;height:38px\"></span></p></a></li></ul></div><div class=\"_2TzkLph0QyL9hAv5c53WeY\"><ul class=\"_6iDyy-CUks251J9k1epBP\"><li class=\"_3gsf81y-6_ZDi-j-tMaVHe\"><a class=\"yMWCYupQNdgppL-NV6sMi _3sAlKGsIBCxTUbNi86oSjt\" href=\"https://travel.yahoo.co.jp/ikCo.ashx?cosid=y_010017&amp;cosuid=ytmh&amp;surl=%2F&amp;sc_e=ytmh\" data-cl-params=\"_cl_vmodule:header;_cl_link:travel;_cl_position:0\" aria-label=\"トラベルへ遷移する\"><p class=\"oLvk9L5Yk-9JOuzi-OHW5\"><span class=\"t_jb9bKlgIcajcRS2hZAP\">トラベル</span><span class=\"_2Uq6Pw5lfFfxr_OD36xHp6 _1dr5aVDbNPF63JCS2bJhij _1yEKxUFSw-Xv2gaBZsYRuI\" style=\"width:38px;height:38px\"></span></p></a></li><li class=\"_3gsf81y-6_ZDi-j-tMaVHe\"><a class=\"yMWCYupQNdgppL-NV6sMi _3sAlKGsIBCxTUbNi86oSjt\" href=\"https://auctions.yahoo.co.jp/\" data-cl-params=\"_cl_vmodule:header;_cl_link:auction;_cl_position:0\" aria-label=\"ヤフオク!へ遷移する\"><p class=\"oLvk9L5Yk-9JOuzi-OHW5\"><span class=\"t_jb9bKlgIcajcRS2hZAP\">ヤフオク!</span><span class=\"_2Uq6Pw5lfFfxr_OD36xHp6 _1dr5aVDbNPF63JCS2bJhij _1K47f2oTmrnpusFOpVVqfY\" style=\"width:38px;height:38px\"></span></p></a></li><li class=\"_3gsf81y-6_ZDi-j-tMaVHe\"><a class=\"yMWCYupQNdgppL-NV6sMi _3sAlKGsIBCxTUbNi86oSjt\" href=\"https://shopping.yahoo.co.jp/?sc_e=ytmh\" data-cl-params=\"_cl_vmodule:header;_cl_link:shopping;_cl_position:0\" aria-label=\"ショッピングへ遷移する\"><p class=\"oLvk9L5Yk-9JOuzi-OHW5\"><span class=\"t_jb9bKlgIcajcRS2hZAP\">ショッピング</span><span class=\"_2Uq6Pw5lfFfxr_OD36xHp6 _1dr5aVDbNPF63JCS2bJhij MOLSPrtOUmdnYy_LgNt2f\" style=\"width:38px;height:38px\"></span></p></a></li></ul></div></div><article id=\"EMG\" class=\"UOnrwIrS-4dX8m_IjuQJH ult__mods\"><h1 class=\"uLxswP8EW1neuHJ-F3OLl _3v9VCsGKsktTB7eaN70w-n\">災害情報</h1><article class=\"zYW2_0UvW9t9pcx44XyVq\"><div class=\"_22TKzm4SS92i9enlnlksjy\"><a class=\"_2nl0SOYLp9h6IWpr6OMiYx\" href=\"https://weather.yahoo.co.jp/weather/levelmap/?pref=46&amp;z=8\" data-cl-params=\"_cl_vmodule:localemg;_cl_link:lemg4_noset;_cl_position:0;level:4;details:Dosha4\"><div class=\"_3zECf0nyteCBL-sD6MLL5O\"><h1 class=\"KO3rLDhb3xzWne35QpHRC\"><span class=\"_1n4lFs10rGPDsTR9lTgNCW _2Sr7ihAJJauTEQBSNjIJjg\">土砂災害</span></h1><ul class=\"_2pS_6qjjmZJ8xaiw2nbkjg\"><li class=\"_1Lio7S4Ab3BNM7zdscZXm4\">鹿児島県</li></ul></div><div class=\"_zybiA4DptAKyJj66qDNs\"><p>大雨により警戒レベルが高まっている地域があります。</p><p><span class=\"_1_fA33aTLHTFdpnGtC3Y8R\">詳細</span></p></div></a></div></article></article><section id=\"search\" class=\"ult__mods _1w9b7DyFfTztW-X6_zmnAE\"><div class=\"_2pgJollUxnY09eN4CPKMrS\"><h1 class=\"_1iMgPNrCw806mefWspPVMk _3v9VCsGKsktTB7eaN70w-n\">検索</h1><ul class=\"ZMlm7LHfZujKgm8NY-0N5\"><li><a href=\"https://search.yahoo.co.jp/\" class=\"y9H1Sj9hz4OlEq2_aEt5E\" aria-label=\"ウェブで検索\" tabindex=\"-1\" data-cl-params=\"_cl_vmodule:search;_cl_link:web_tab;_cl_position:0\"><span class=\"fQMqQTGJTbIMxjQwZA2zk _3tGRl6x9iIWRiFTkKl3kcR\"><span class=\"_1uQvvM7M_K0hc4e29lRa8 _2B_ETzo6nh1JNMLebSi_2p\">ウェブ</span></span></a></li><li><a href=\"https://search.yahoo.co.jp/image\" class=\"y9H1Sj9hz4OlEq2_aEt5E\" aria-label=\"画像で検索\" tabindex=\"-1\" data-cl-params=\"_cl_vmodule:search;_cl_link:img;_cl_position:0\"><span class=\"fQMqQTGJTbIMxjQwZA2zk _3tGRl6x9iIWRiFTkKl3kcR\"><span class=\"_1uQvvM7M_K0hc4e29lRa8\">画像</span></span></a></li><li><a href=\"https://search.yahoo.co.jp/video\" class=\"y9H1Sj9hz4OlEq2_aEt5E\" aria-label=\"動画で検索\" tabindex=\"-1\" data-cl-params=\"_cl_vmodule:search;_cl_link:vd;_cl_position:0\"><span class=\"fQMqQTGJTbIMxjQwZA2zk _3tGRl6x9iIWRiFTkKl3kcR\"><span class=\"_1uQvvM7M_K0hc4e29lRa8\">動画</span></span></a></li><li><a href=\"https://chiebukuro.yahoo.co.jp/\" class=\"y9H1Sj9hz4OlEq2_aEt5E\" aria-label=\"知恵袋で検索\" tabindex=\"-1\" data-cl-params=\"_cl_vmodule:search;_cl_link:chie;_cl_position:0\"><span class=\"fQMqQTGJTbIMxjQwZA2zk _3tGRl6x9iIWRiFTkKl3kcR\"><span class=\"_1uQvvM7M_K0hc4e29lRa8\">知恵袋</span></span></a></li><li><a href=\"https://map.yahoo.co.jp/\" class=\"y9H1Sj9hz4OlEq2_aEt5E\" aria-label=\"地図で検索\" tabindex=\"-1\" data-cl-params=\"_cl_vmodule:search;_cl_link:map;_cl_position:0\"><span class=\"fQMqQTGJTbIMxjQwZA2zk _3tGRl6x9iIWRiFTkKl3kcR\"><span class=\"_1uQvvM7M_K0hc4e29lRa8\">地図</span></span></a></li><li><a href=\"https://search.yahoo.co.jp/realtime\" class=\"y9H1Sj9hz4OlEq2_aEt5E\" aria-label=\"リアルタイムで検索\" tabindex=\"-1\" data-cl-params=\"_cl_vmodule:search;_cl_link:realtime;_cl_position:0\"><span class=\"fQMqQTGJTbIMxjQwZA2zk _3tGRl6x9iIWRiFTkKl3kcR\"><span class=\"_1uQvvM7M_K0hc4e29lRa8\">リアルタイム</span></span></a></li><li><a href=\"https://services.yahoo.co.jp/\" class=\"y9H1Sj9hz4OlEq2_aEt5E\" aria-label=\"一覧で検索\" tabindex=\"-1\" data-cl-params=\"_cl_vmodule:search;_cl_link:svc;_cl_position:0\"><span class=\"fQMqQTGJTbIMxjQwZA2zk _3tGRl6x9iIWRiFTkKl3kcR\"><span class=\"_1uQvvM7M_K0hc4e29lRa8\">一覧</span></span></a></li></ul><form action=\"https://search.yahoo.co.jp/search\" name=\"sf1\" method=\"get\" role=\"search\"><fieldset><legend>Yahoo!検索</legend><span class=\"DqAzAIGI9nNwKOFNu3ohH\"><input type=\"search\" class=\"n1Bw-ocbo_PYJUKDrSyHN\" name=\"p\" autoComplete=\"on\" aria-label=\"検索したいキーワードを入力してください\" aria-live=\"assertive\"/><button class=\"_3doZ1jaGSB3ytjCOeYg5nG\" type=\"submit\" data-cl-params=\"_cl_vmodule:search;_cl_link:web;_cl_position:0\"><span class=\"_4L_am9wbgiSNBUD50wbDA\"><span class=\"_3oyNASbPKmiq-iwh602OKt\">検索</span></span></button></span></fieldset><input type=\"hidden\" name=\"fr\" value=\"top_table\"/><input type=\"hidden\" name=\"ei\" value=\"UTF-8\"/><input type=\"hidden\" name=\"ts\"/><input type=\"hidden\" name=\"aq\" value=\"\"/></form></div></section><div id=\"Message\" class=\"ult__mods\"><noscript><section class=\"_1bzp-M2uxs86VaYq0IxNuy\"><h1 class=\"_2lQjNEXfrs2C14psQwQ5ai _3v9VCsGKsktTB7eaN70w-n\">JavaScriptの設定について</h1><div class=\"_19J_Z9KVKnQzOVKA0jkC4e\"><p><span class=\"fQMqQTGJTbIMxjQwZA2zk _3tGRl6x9iIWRiFTkKl3kcR\">JavaScriptが無効になっています。すべての機能を利用するためには、有効に設定してください。<br/>詳しくは「<a class=\"_1NzGMsC3awTFzjzXnvX-zV\" data-cl-params=\"_cl_vmodule:message;_cl_link:jsof;_cl_position:0\" href=\"https://support.yahoo-net.jp/noscript\">JavaScriptの設定方法</a>」をご覧ください。</span></p></div></section></noscript><section class=\"_1bzp-M2uxs86VaYq0IxNuy\"><h1 class=\"_2lQjNEXfrs2C14psQwQ5ai _3v9VCsGKsktTB7eaN70w-n\">推奨ブラウザーについて</h1><div class=\"_19J_Z9KVKnQzOVKA0jkC4e\"><p><span class=\"fQMqQTGJTbIMxjQwZA2zk _3tGRl6x9iIWRiFTkKl3kcR\">Yahoo! JAPANトップページの機能を正しくご利用いただくには、下記の環境が必要です。<span class=\"_1XWJVEK6heb_Paj9eU6R1u\">パソコンでご利用のお客様<br/>Windows：Edge 最新版 / Chrome 最新版 / Firefox 最新版\\u3000macOS：Safari 14.0以上</span><span class=\"_1XWJVEK6heb_Paj9eU6R1u\">タブレットでご利用のお客様<br/>iOS 11.0以降、または、Android4.4以降のOSに標準搭載されたブラウザー<br/>※日本国内版として発売されている端末でご利用ください。</span></span></p></div></section></div><section id=\"TopLink\" class=\"_2Pb7ROIJrC3Wj9bPxN4J7D ult__mods\"><h1 class=\"T29vXGZu-fmHRJfd123YZ _3v9VCsGKsktTB7eaN70w-n\">お知らせ</h1><ul class=\"QoCp7KDEt29FbN5hCjsCx\" aria-label=\"お知らせ\"><li class=\"_2ZzfUQqYuRip1h-aXoiCHV\"><a class=\"yMWCYupQNdgppL-NV6sMi _3sAlKGsIBCxTUbNi86oSjt\" href=\"https://auctions.yahoo.co.jp/topic/promo/select/tomica/\" data-cl-params=\"_cl_vmodule:toplink;_cl_link:link;_cl_position:1;aid:3719405\"><span class=\"fQMqQTGJTbIMxjQwZA2zk _3tGRl6x9iIWRiFTkKl3kcR\"><span class=\"_3S2Wdrkt1LKANaWcLrZToT\">トミカ特集\\u3000スポーツカーや70～80年代の名車も</span></span></a></li><li class=\"_2ZzfUQqYuRip1h-aXoiCHV\"><a class=\"yMWCYupQNdgppL-NV6sMi _3sAlKGsIBCxTUbNi86oSjt\" href=\"https://yellmarket.yahoo.co.jp/speciallist/season/uni/?cpt_n=yahoo_toplink&amp;cpt_m=yahoo_toplink&amp;cpt_s=yahoo_toplink\" data-cl-params=\"_cl_vmodule:toplink;_cl_link:link;_cl_position:2;aid:3719423\"><span class=\"fQMqQTGJTbIMxjQwZA2zk _3tGRl6x9iIWRiFTkKl3kcR\"><span class=\"_3S2Wdrkt1LKANaWcLrZToT\">殻付きのお造り生ウニも\\u3000旬の逸品が勢ぞろい</span></span></a></li><li class=\"_2ZzfUQqYuRip1h-aXoiCHV\"><a class=\"yMWCYupQNdgppL-NV6sMi _3sAlKGsIBCxTUbNi86oSjt\" href=\"https://shopping.yahoo.co.jp/promotion/campaign/sansan/?sc_e=yttl_pc_sansan\" data-cl-params=\"_cl_vmodule:toplink;_cl_link:link;_cl_position:3;aid:3719441\"><span class=\"fQMqQTGJTbIMxjQwZA2zk _3tGRl6x9iIWRiFTkKl3kcR\"><span class=\"_3S2Wdrkt1LKANaWcLrZToT\">対象ストアで買い物すると3.3％おトク</span></span></a></li></ul></section></header><main class=\"_1E44HBKDmnr5AqaU83dU3b\"><div class=\"T0vodIJQXVKLbGKVRIOPQ\"><nav><div class=\"_1nJ39BFpWaPCIWutB-olO8 _171Q0OxQF2Vk3J_CxMxajb -DmdTfmK9dpsdI1vggc-z\"><header class=\"_37AoRe1Io5JOtSIPDdUQCF _1m5d7MNAIFyOM71xJdSK_s _3v9VCsGKsktTB7eaN70w-n\"><h1 class=\"_2LJWWRbnY7KqEPyWQukxFD _2vlyNSs41eUR8HDyQ8iUvQ\">主なサービス</h1></header><div id=\"ToolList\"><ul class=\"_1glrFPJpWbefWf8qr3k4FU\" aria-label=\"主なサービス\"><li><div class=\"_3Ip8DQAJYKfPeByyVN-utZ\"><a class=\"yMWCYupQNdgppL-NV6sMi _3sAlKGsIBCxTUbNi86oSjt cl-nofollow\" href=\"https://shopping.yahoo.co.jp/?sc_e=ytc\" aria-label=\"ショッピングへ遷移する\"><p class=\"_2bBRLhI5ZpVYu0tuHZEFrn\"><span class=\"pz0On1w4yAviBGMdKItoQ\"><span class=\"fQMqQTGJTbIMxjQwZA2zk _3tGRl6x9iIWRiFTkKl3kcR\">ショッピング</span></span><span class=\"_1Al3K70np2V_Ev1eGkfsBm\"><span class=\"_2Uq6Pw5lfFfxr_OD36xHp6 _1dr5aVDbNPF63JCS2bJhij MOLSPrtOUmdnYy_LgNt2f\" style=\"width:20px;height:20px\"></span></span></p></a></div></li><li><div class=\"_3Ip8DQAJYKfPeByyVN-utZ\"><a class=\"yMWCYupQNdgppL-NV6sMi _3sAlKGsIBCxTUbNi86oSjt cl-nofollow\" href=\"https://auctions.yahoo.co.jp\" aria-label=\"ヤフオク!へ遷移する\"><p class=\"_2bBRLhI5ZpVYu0tuHZEFrn\"><span class=\"pz0On1w4yAviBGMdKItoQ\"><span class=\"fQMqQTGJTbIMxjQwZA2zk _3tGRl6x9iIWRiFTkKl3kcR\">ヤフオク!</span></span><span class=\"_1Al3K70np2V_Ev1eGkfsBm\"><span class=\"_2Uq6Pw5lfFfxr_OD36xHp6 _1dr5aVDbNPF63JCS2bJhij _1K47f2oTmrnpusFOpVVqfY\" style=\"width:20px;height:20px\"></span></span></p></a></div></li><li><div class=\"_3Ip8DQAJYKfPeByyVN-utZ\"><a class=\"yMWCYupQNdgppL-NV6sMi _3sAlKGsIBCxTUbNi86oSjt cl-nofollow\" href=\"https://app.adjust.com/1kmi1m2?redirect=https%3A%2F%2Fpaypayfleamarket.yahoo.co.jp%2F%3Fcpt_s%3Dytopmedia%26cpt_m%3Dkotei%26cpt_n%3Dcontent%26cpt_c%3Dytopmedia\" aria-label=\"PayPayフリマへ遷移する\"><p class=\"_2bBRLhI5ZpVYu0tuHZEFrn\"><span class=\"pz0On1w4yAviBGMdKItoQ\"><span class=\"fQMqQTGJTbIMxjQwZA2zk _3tGRl6x9iIWRiFTkKl3kcR\">PayPayフリマ</span></span><span class=\"_1Al3K70np2V_Ev1eGkfsBm\"><span class=\"_2Uq6Pw5lfFfxr_OD36xHp6 _1dr5aVDbNPF63JCS2bJhij _3zb-zxOYGPoHJ2-_Ie8y8T\" style=\"width:20px;height:20px\"></span></span></p></a></div></li><li><div class=\"_3Ip8DQAJYKfPeByyVN-utZ\"><a class=\"yMWCYupQNdgppL-NV6sMi _3sAlKGsIBCxTUbNi86oSjt cl-nofollow\" href=\"https://zozo.jp/?utm_source=yahoo&amp;utm_medium=referral&amp;utm_campaign=web_ytop-leftcolumn\" aria-label=\"ZOZOTOWNへ遷移する\"><p class=\"_2bBRLhI5ZpVYu0tuHZEFrn\"><span class=\"pz0On1w4yAviBGMdKItoQ\"><span class=\"fQMqQTGJTbIMxjQwZA2zk _3tGRl6x9iIWRiFTkKl3kcR\">ZOZOTOWN</span></span><span class=\"_1Al3K70np2V_Ev1eGkfsBm\"><span class=\"_2Uq6Pw5lfFfxr_OD36xHp6 _1dr5aVDbNPF63JCS2bJhij _2VdNwkD_q8hjK0ZyvATgab\" style=\"width:20px;height:20px\"></span></span></p></a></div></li><li><div class=\"_3Ip8DQAJYKfPeByyVN-utZ\"><a class=\"yMWCYupQNdgppL-NV6sMi _3sAlKGsIBCxTUbNi86oSjt cl-nofollow\" href=\"https://lohaco.yahoo.co.jp/?bk=t&amp;sc_e=j_as_ya_tc_n&amp;iscr=1\" aria-label=\"LOHACOへ遷移する\"><p class=\"_2bBRLhI5ZpVYu0tuHZEFrn\"><span class=\"pz0On1w4yAviBGMdKItoQ\"><span class=\"fQMqQTGJTbIMxjQwZA2zk _3tGRl6x9iIWRiFTkKl3kcR\">LOHACO</span></span><span class=\"_1Al3K70np2V_Ev1eGkfsBm\"><span class=\"_2Uq6Pw5lfFfxr_OD36xHp6 _1dr5aVDbNPF63JCS2bJhij _3xvmznkMqRitO0Iqn3ckur\" style=\"width:20px;height:20px\"></span></span></p></a></div></li><li><div class=\"_3Ip8DQAJYKfPeByyVN-utZ\"><a class=\"yMWCYupQNdgppL-NV6sMi _3sAlKGsIBCxTUbNi86oSjt cl-nofollow\" href=\"https://travel.yahoo.co.jp/ikCo.ashx?cosid=y_010002&amp;cosuid=ytsl&amp;surl=%2F&amp;sc_e=ytsl\" aria-label=\"トラベルへ遷移する\"><p class=\"_2bBRLhI5ZpVYu0tuHZEFrn\"><span class=\"pz0On1w4yAviBGMdKItoQ\"><span class=\"fQMqQTGJTbIMxjQwZA2zk _3tGRl6x9iIWRiFTkKl3kcR\">トラベル</span></span><span class=\"_1Al3K70np2V_Ev1eGkfsBm\"><span class=\"_2Uq6Pw5lfFfxr_OD36xHp6 _1dr5aVDbNPF63JCS2bJhij _1yEKxUFSw-Xv2gaBZsYRuI\" style=\"width:20px;height:20px\"></span></span></p></a></div></li><li><div class=\"_3Ip8DQAJYKfPeByyVN-utZ\"><a class=\"yMWCYupQNdgppL-NV6sMi _3sAlKGsIBCxTUbNi86oSjt cl-nofollow\" href=\"https://www.ikyu.com/ikCo.ashx?cosid=ik010002&amp;surl=%2F&amp;sc_e=ytc_pc_ikyu\" aria-label=\"一休.comへ遷移する\"><p class=\"_2bBRLhI5ZpVYu0tuHZEFrn\"><span class=\"pz0On1w4yAviBGMdKItoQ\"><span class=\"fQMqQTGJTbIMxjQwZA2zk _3tGRl6x9iIWRiFTkKl3kcR\">一休.com</span></span><span class=\"_1Al3K70np2V_Ev1eGkfsBm\"><span class=\"_2Uq6Pw5lfFfxr_OD36xHp6 _1dr5aVDbNPF63JCS2bJhij daLkyi7PiGXeFyVYTU_9n\" style=\"width:20px;height:20px\"></span></span></p></a></div></li><li><div class=\"_3Ip8DQAJYKfPeByyVN-utZ\"><a class=\"yMWCYupQNdgppL-NV6sMi _3sAlKGsIBCxTUbNi86oSjt cl-nofollow\" href=\"https://restaurant.ikyu.com/rsCosite.asp?CosNo=10000175&amp;CosUrl=\" aria-label=\"一休.comレストランへ遷移する\"><p class=\"_2bBRLhI5ZpVYu0tuHZEFrn\"><span class=\"pz0On1w4yAviBGMdKItoQ\"><span class=\"fQMqQTGJTbIMxjQwZA2zk _3tGRl6x9iIWRiFTkKl3kcR\">一休.comレストラン</span></span><span class=\"_1Al3K70np2V_Ev1eGkfsBm\"><span class=\"_2Uq6Pw5lfFfxr_OD36xHp6 _1dr5aVDbNPF63JCS2bJhij _1z4Le4zkghapVZCQm9RCy8\" style=\"width:20px;height:20px\"></span></span></p></a></div></li><li><div class=\"_3Ip8DQAJYKfPeByyVN-utZ\"><a class=\"yMWCYupQNdgppL-NV6sMi _3sAlKGsIBCxTUbNi86oSjt cl-nofollow\" href=\"https://paypaygourmet.yahoo.co.jp/?sc_e=ytc\" aria-label=\"PayPayグルメへ遷移する\"><p class=\"_2bBRLhI5ZpVYu0tuHZEFrn\"><span class=\"pz0On1w4yAviBGMdKItoQ\"><span class=\"fQMqQTGJTbIMxjQwZA2zk _3tGRl6x9iIWRiFTkKl3kcR\">PayPayグルメ</span></span><span class=\"_1Al3K70np2V_Ev1eGkfsBm\"><span class=\"_2Uq6Pw5lfFfxr_OD36xHp6 _1dr5aVDbNPF63JCS2bJhij PgUs6FV7zVPjsTeGUP8wT\" style=\"width:20px;height:20px\"></span></span></p></a></div></li><li><div class=\"_3Ip8DQAJYKfPeByyVN-utZ\"><a class=\"yMWCYupQNdgppL-NV6sMi _3sAlKGsIBCxTUbNi86oSjt cl-nofollow\" href=\"https://demae-can.com/?utm_source=yahoo&amp;utm_medium=toplink&amp;utm_campaign=demaecantop\" aria-label=\"出前館へ遷移する\"><p class=\"_2bBRLhI5ZpVYu0tuHZEFrn\"><span class=\"pz0On1w4yAviBGMdKItoQ\"><span class=\"fQMqQTGJTbIMxjQwZA2zk _3tGRl6x9iIWRiFTkKl3kcR\">出前館</span></span><span class=\"_1Al3K70np2V_Ev1eGkfsBm\"><span class=\"_2Uq6Pw5lfFfxr_OD36xHp6 _1dr5aVDbNPF63JCS2bJhij NuRliOifOckuQ9kobVaI9\" style=\"width:20px;height:20px\"></span></span></p></a></div></li></ul></div><footer id=\"ToolFooter\" class=\"_3wZKJtfV8AYYaTP-zoyO9O ult__mods\"><a class=\"yMWCYupQNdgppL-NV6sMi _3sAlKGsIBCxTUbNi86oSjt\" href=\"https://services.yahoo.co.jp/\" data-cl-params=\"_cl_vmodule:tool;_cl_link:list;_cl_position:0\" aria-label=\"Yahoo! JAPANのサービス一覧\"><dl class=\"STepvEgbaZ0rLEqfER-qm\"><dt class=\"W2bretj6vyf8QDes2gkQA\"><span class=\"fQMqQTGJTbIMxjQwZA2zk _3tGRl6x9iIWRiFTkKl3kcR\">サービス一覧</span></dt><dd class=\"_37zK--zuySKLzNE12rgdHL\"><span class=\"_2Uq6Pw5lfFfxr_OD36xHp6 _1dr5aVDbNPF63JCS2bJhij _3WrFs0ChLr_s9-gBqS7yts\" style=\"width:12px;height:12px\"></span></dd></dl></a></footer></div></nav></div><div class=\"_18kxl0qTaDA-GTdvTQKmFY\"><div class=\"_2DunygeBZHdgHX_Gih3GC4\" id=\"Topics\"><article><div class=\"_1nJ39BFpWaPCIWutB-olO8 -DmdTfmK9dpsdI1vggc-z\"><header class=\"_3WRl3h4EAx9fdzwK76sfHC\"><h1 class=\"_2LJWWRbnY7KqEPyWQukxFD _9YxVmCAhrwLz2V6qXWqBJ\" aria-label=\"Yahoo!ニュース\">ニュース</h1></header><section id=\"tabpanelTopics1\" class=\"ult__mods\" role=\"tabpanel\" aria-labelledby=\"tabTopics1\" aria-hidden=\"false\"><header class=\"_5swsXRdQMtHOvhS2bwHid _3v9VCsGKsktTB7eaN70w-n\"><h1>主要 ニュース</h1></header><div class=\"_1XAfHUWtx6tfYZuWDVjNxZ\"><div class=\"_2jjSS8r_I9Zd6O9NFJtDN-\" aria-label=\"主要 ニュース\"><p class=\"_2vq5UBfOFpYcyqNRy51gDf\"><span class=\"fQMqQTGJTbIMxjQwZA2zk _2VDw54wcDejORZkozpOysW\">7/2(日) 8:19更新</span></p><ul><li class=\"_2j0udhv5jERZtYzddeDwcv\"><article class=\"QLtbNZwO-lssuRUcWewbd\" data-ual-view-type=\"list\" data-ual=\"id_type:shannon_article;content_id:d286fdcd5423553e90db1e98205c6fe720dd1e9d;element_id:first-main-topics-text\"><a class=\"yMWCYupQNdgppL-NV6sMi _3sAlKGsIBCxTUbNi86oSjt\" href=\"https://news.yahoo.co.jp/pickup/6468160\" data-cl-params=\"_cl_vmodule:tpto;_cl_link:title;_cl_position:1;tpid:6468160;imgsize:s;cmt_num:0\" data-ual-gotocontent=\"true\"><div class=\"_2cXD1uC4eaOih4-zkRgqjU\"><div class=\"TRuzXRRZHRqbqgLUCCco9\"><h1 class=\"_3cl937Zpn1ce8mDKd5kp7u\"><span class=\"fQMqQTGJTbIMxjQwZA2zk _1alzSpTqJzvSVUWqpx82d4\">奄美地方 昼前かけ災害に厳重警戒</span></h1><span class=\"_2obRU_TgAxzHaYqOXrZYlv\"><span class=\"h4yLXygiSc5wwNlJOQEdz _1dr5aVDbNPF63JCS2bJhij _2M3AyDfFaeJl3Uo7lUPMAp\" style=\"width:30px;height:12px\">NEW</span></span></div></div></a></article></li><li class=\"_2j0udhv5jERZtYzddeDwcv\"><article class=\"QLtbNZwO-lssuRUcWewbd\" data-ual-view-type=\"list\" data-ual=\"id_type:shannon_article;content_id:5c6aeb66de3ba1e8f18df330eeebee11088a1bd7;element_id:first-main-topics-text\"><a class=\"yMWCYupQNdgppL-NV6sMi _3sAlKGsIBCxTUbNi86oSjt\" href=\"https://news.yahoo.co.jp/pickup/6468157\" data-cl-params=\"_cl_vmodule:tpto;_cl_link:title;_cl_position:2;tpid:6468157;imgsize:s;cmt_num:169\" data-ual-gotocontent=\"true\"><div class=\"_2cXD1uC4eaOih4-zkRgqjU\"><div class=\"TRuzXRRZHRqbqgLUCCco9\"><h1 class=\"_3cl937Zpn1ce8mDKd5kp7u\"><span class=\"fQMqQTGJTbIMxjQwZA2zk _1alzSpTqJzvSVUWqpx82d4\">再エネ送電 鉄道架線の活用検討へ</span></h1></div></div></a></article></li><li class=\"_2j0udhv5jERZtYzddeDwcv\"><article class=\"QLtbNZwO-lssuRUcWewbd\" data-ual-view-type=\"list\" data-ual=\"id_type:shannon_article;content_id:baec7b29551dd90fdf17687305b19e99f47e6841;element_id:first-main-topics-text\"><a class=\"yMWCYupQNdgppL-NV6sMi _3sAlKGsIBCxTUbNi86oSjt\" href=\"https://news.yahoo.co.jp/pickup/6468154\" data-cl-params=\"_cl_vmodule:tpto;_cl_link:title;_cl_position:3;tpid:6468154;imgsize:s;cmt_num:528\" data-ual-gotocontent=\"true\"><div class=\"_2cXD1uC4eaOih4-zkRgqjU\"><div class=\"TRuzXRRZHRqbqgLUCCco9\"><h1 class=\"_3cl937Zpn1ce8mDKd5kp7u\"><span class=\"fQMqQTGJTbIMxjQwZA2zk _1alzSpTqJzvSVUWqpx82d4\">川に流された9歳男児死亡 和歌山</span></h1></div></div></a></article></li><li class=\"_2j0udhv5jERZtYzddeDwcv\"><article class=\"QLtbNZwO-lssuRUcWewbd\" data-ual-view-type=\"list\" data-ual=\"id_type:shannon_article;content_id:b98f647feb44c556a2d0be878c82488c8ac7197e;element_id:first-main-topics-text\"><a class=\"yMWCYupQNdgppL-NV6sMi _3sAlKGsIBCxTUbNi86oSjt\" href=\"https://news.yahoo.co.jp/pickup/6468155\" data-cl-params=\"_cl_vmodule:tpto;_cl_link:title;_cl_position:4;tpid:6468155;imgsize:s;cmt_num:626\" data-ual-gotocontent=\"true\"><div class=\"_2cXD1uC4eaOih4-zkRgqjU\"><div class=\"TRuzXRRZHRqbqgLUCCco9\"><h1 class=\"_3cl937Zpn1ce8mDKd5kp7u\"><span class=\"fQMqQTGJTbIMxjQwZA2zk _1alzSpTqJzvSVUWqpx82d4\">Twitter 閲覧件数に一時的な制限</span></h1></div></div></a></article></li><li class=\"_2j0udhv5jERZtYzddeDwcv\"><article class=\"QLtbNZwO-lssuRUcWewbd\" data-ual-view-type=\"list\" data-ual=\"id_type:shannon_article;content_id:21240378a0ca414d3503119af81e5205b65c735c;element_id:first-main-topics-text\"><a class=\"yMWCYupQNdgppL-NV6sMi _3sAlKGsIBCxTUbNi86oSjt\" href=\"https://news.yahoo.co.jp/pickup/6468161\" data-cl-params=\"_cl_vmodule:tpto;_cl_link:title;_cl_position:5;tpid:6468161;imgsize:s;cmt_num:190\" data-ual-gotocontent=\"true\"><div class=\"_2cXD1uC4eaOih4-zkRgqjU\"><div class=\"TRuzXRRZHRqbqgLUCCco9\"><h1 class=\"_3cl937Zpn1ce8mDKd5kp7u\"><span class=\"fQMqQTGJTbIMxjQwZA2zk _1alzSpTqJzvSVUWqpx82d4\">「中野サンプラザ」きょう閉館</span></h1><span class=\"_2obRU_TgAxzHaYqOXrZYlv\"><span class=\"h4yLXygiSc5wwNlJOQEdz _1dr5aVDbNPF63JCS2bJhij _2M3AyDfFaeJl3Uo7lUPMAp\" style=\"width:30px;height:12px\">NEW</span></span></div></div></a></article></li><li class=\"_2j0udhv5jERZtYzddeDwcv\"><article class=\"QLtbNZwO-lssuRUcWewbd\" data-ual-view-type=\"list\" data-ual=\"id_type:shannon_article;content_id:8f08193edf45fa0ccfe8c0f4193bc28c39de0a1c;element_id:first-main-topics-text\"><a class=\"yMWCYupQNdgppL-NV6sMi _3sAlKGsIBCxTUbNi86oSjt\" href=\"https://news.yahoo.co.jp/pickup/6468163\" data-cl-params=\"_cl_vmodule:tpto;_cl_link:title;_cl_position:6;tpid:6468163;imgsize:s;cmt_num:88\" data-ual-gotocontent=\"true\"><div class=\"_2cXD1uC4eaOih4-zkRgqjU\"><div class=\"TRuzXRRZHRqbqgLUCCco9\"><h1 class=\"_3cl937Zpn1ce8mDKd5kp7u\"><span class=\"fQMqQTGJTbIMxjQwZA2zk _1alzSpTqJzvSVUWqpx82d4\">吉田正尚 164km死球直撃で交代</span></h1><span class=\"_2obRU_TgAxzHaYqOXrZYlv\"><span class=\"h4yLXygiSc5wwNlJOQEdz _1dr5aVDbNPF63JCS2bJhij _2M3AyDfFaeJl3Uo7lUPMAp\" style=\"width:30px;height:12px\">NEW</span></span></div></div></a></article></li><li class=\"_2j0udhv5jERZtYzddeDwcv\"><article class=\"QLtbNZwO-lssuRUcWewbd\" data-ual-view-type=\"list\" data-ual=\"id_type:shannon_article;content_id:f8cae41de88a8297cb065e32661a50da97886847;element_id:first-main-topics-text\"><a class=\"yMWCYupQNdgppL-NV6sMi _3sAlKGsIBCxTUbNi86oSjt\" href=\"https://news.yahoo.co.jp/pickup/6468156\" data-cl-params=\"_cl_vmodule:tpto;_cl_link:title;_cl_position:7;tpid:6468156;imgsize:s;cmt_num:1182\" data-ual-gotocontent=\"true\"><div class=\"_2cXD1uC4eaOih4-zkRgqjU\"><div class=\"TRuzXRRZHRqbqgLUCCco9\"><h1 class=\"_3cl937Zpn1ce8mDKd5kp7u\"><span class=\"fQMqQTGJTbIMxjQwZA2zk _1alzSpTqJzvSVUWqpx82d4\">体罰疑いで解任 野球部前監督復帰</span></h1></div></div></a></article></li><li class=\"_2j0udhv5jERZtYzddeDwcv\"><article class=\"QLtbNZwO-lssuRUcWewbd\" data-ual-view-type=\"list\" data-ual=\"id_type:shannon_article;content_id:5c2324b5997fa59a8fd0337e0e3ce0482edeebf0;element_id:first-main-topics-text\"><a class=\"yMWCYupQNdgppL-NV6sMi _3sAlKGsIBCxTUbNi86oSjt\" href=\"https://news.yahoo.co.jp/pickup/6468162\" data-cl-params=\"_cl_vmodule:tpto;_cl_link:title;_cl_position:8;tpid:6468162;imgsize:s;cmt_num:0\" data-ual-gotocontent=\"true\"><div class=\"_2cXD1uC4eaOih4-zkRgqjU\"><div class=\"TRuzXRRZHRqbqgLUCCco9\"><h1 class=\"_3cl937Zpn1ce8mDKd5kp7u\"><span class=\"fQMqQTGJTbIMxjQwZA2zk _1alzSpTqJzvSVUWqpx82d4\">春ドラ最終回 夏ドラと重なる珍事</span></h1><span class=\"_2obRU_TgAxzHaYqOXrZYlv\"><span class=\"h4yLXygiSc5wwNlJOQEdz _1dr5aVDbNPF63JCS2bJhij _2M3AyDfFaeJl3Uo7lUPMAp\" style=\"width:30px;height:12px\">NEW</span></span></div></div></a></article></li></ul></div><div class=\"_3sm0x0pVyxLkf4q9ubmXSL\"><article><a class=\"yMWCYupQNdgppL-NV6sMi _3sAlKGsIBCxTUbNi86oSjt\" href=\"https://news.yahoo.co.jp/articles/168a8c2424364d9d9ee863db20adcaed55a76f7f/images/000\" data-cl-params=\"_cl_vmodule:tpto;_cl_link:title;_cl_position:9;imgsize:l\"><div class=\"_1EYwdR4JxrwgpIvWk7vO3f\"><h1 class=\"RS4h_eDWC6FIIyYMupWR0\"><span class=\"fQMqQTGJTbIMxjQwZA2zk _1alzSpTqJzvSVUWqpx82d4\">サバの丸焼き</span></h1><p class=\"_2e8OreFgYIc3gdzYJLKAMA\"><time class=\"_1GD9Sx7FpCs4EuL3bT974r\">7/2(日) 7:12</time></p><div class=\"_1pfcRKnf6y-2AXzpXf0vrb\"><cite class=\"O9jggTRv0zy3XcPayfJLa\">福井新聞ＯＮＬＩＮＥ</cite></div><div class=\"_1UmUawjY6VSzmTK3Y-1sjq\"><span class=\"rStpk9W4eUO5IMVhnJylj\"><picture><source type=\"image/webp\" srcSet=\"https://news-pctr.c.yimg.jp/t/news-topics/images/tpc/2023/7/2/ebc9fb3969a73132bf96550aa4ea79cb44d5902c52ee6dfe6b9c31aa1e693a07.jpg?h=200&amp;w=200&amp;pri=l&amp;fmt=webp\"/><img src=\"https://news-pctr.c.yimg.jp/t/news-topics/images/tpc/2023/7/2/ebc9fb3969a73132bf96550aa4ea79cb44d5902c52ee6dfe6b9c31aa1e693a07.jpg?h=200&amp;w=200&amp;pri=l\" width=\"66.2625\" height=\"90\" alt=\"\"/></picture></span></div></div></a></article></div></div><footer class=\"_14QMUEF7FBJllh14_fachi\"><ul class=\"g0enqV_RXcWSi7gOheAhU\"><li class=\"_3gXYBXvKzn55TlnxGoxJ5j\"><span class=\"fQMqQTGJTbIMxjQwZA2zk _1alzSpTqJzvSVUWqpx82d4\"><a class=\"yMWCYupQNdgppL-NV6sMi _3sAlKGsIBCxTUbNi86oSjt\" href=\"https://news.yahoo.co.jp/topics/top-picks\" data-cl-params=\"_cl_vmodule:tpto;_cl_link:more;_cl_position:0\">もっと見る</a></span></li><li class=\"_3gXYBXvKzn55TlnxGoxJ5j\"><span class=\"fQMqQTGJTbIMxjQwZA2zk _1alzSpTqJzvSVUWqpx82d4\"><a class=\"yMWCYupQNdgppL-NV6sMi _3sAlKGsIBCxTUbNi86oSjt\" href=\"https://news.yahoo.co.jp/topics\" data-cl-params=\"_cl_vmodule:tpto;_cl_link:list;_cl_position:0\">トピックス一覧</a></span></li></ul></footer></section></div></article></div></div><div class=\"_18Y5F9M1FtUYbDxoMln3x7\"><section id=\"ybb\" class=\"ult__mods\"><div class=\"_1nJ39BFpWaPCIWutB-olO8 _2wxmE85OIsKrFYkvsJ2Tu1 _171Q0OxQF2Vk3J_CxMxajb -DmdTfmK9dpsdI1vggc-z\"><header class=\"_37AoRe1Io5JOtSIPDdUQCF\"><h1 class=\"_2LJWWRbnY7KqEPyWQukxFD _2vlyNSs41eUR8HDyQ8iUvQ\">Yahoo! BB会員メニュー</h1><span class=\"fQMqQTGJTbIMxjQwZA2zk _3tGRl6x9iIWRiFTkKl3kcR\"><a class=\"yMWCYupQNdgppL-NV6sMi _3sAlKGsIBCxTUbNi86oSjt\" href=\"https://ybb.yahoo.co.jp/hikitsugi/\" data-cl-params=\"_cl_link:id;_cl_position:0\">Yahoo! BB用IDの変更</a></span></header><ul class=\"_2ASi_rS7-Ql8caa3E677lM\"><li class=\"zi78db4PWNsmQtCIBIUpf\"><div><a class=\"yMWCYupQNdgppL-NV6sMi _3sAlKGsIBCxTUbNi86oSjt\" href=\"http://ybb.softbank.jp/support/mysoftbank/?adid=sprt_210714_sprt_m_r_o_o_1_005\" data-cl-params=\"_cl_link:procedure;_cl_position:0\"><span class=\"fQMqQTGJTbIMxjQwZA2zk _3tGRl6x9iIWRiFTkKl3kcR\">各種お手続き</span></a></div></li><li class=\"zi78db4PWNsmQtCIBIUpf\"><div><a class=\"yMWCYupQNdgppL-NV6sMi _3sAlKGsIBCxTUbNi86oSjt\" href=\"http://ybb.softbank.jp/support/?adid=sprt_210714_sprt_m_r_o_o_1_004\" data-cl-params=\"_cl_link:support;_cl_position:0\"><span class=\"fQMqQTGJTbIMxjQwZA2zk _3tGRl6x9iIWRiFTkKl3kcR\">お客様サポート</span></a></div></li><li class=\"zi78db4PWNsmQtCIBIUpf\"><div><a class=\"yMWCYupQNdgppL-NV6sMi _3sAlKGsIBCxTUbNi86oSjt\" href=\"https://bbservice.yahoo.co.jp/\" data-cl-params=\"_cl_link:benefit;_cl_position:0\"><span class=\"fQMqQTGJTbIMxjQwZA2zk _3tGRl6x9iIWRiFTkKl3kcR\">会員特典</span></a></div></li><li class=\"zi78db4PWNsmQtCIBIUpf\"><div><a class=\"yMWCYupQNdgppL-NV6sMi _3sAlKGsIBCxTUbNi86oSjt\" href=\"https://www.softbank.jp/internet/option/#/?adid=sprt_210830_sprt_m_r_o_o_1_100\" data-cl-params=\"_cl_link:option;_cl_position:0\"><span class=\"fQMqQTGJTbIMxjQwZA2zk _3tGRl6x9iIWRiFTkKl3kcR\">オプションサービス案内</span></a></div></li><li class=\"zi78db4PWNsmQtCIBIUpf\"><div><a class=\"yMWCYupQNdgppL-NV6sMi _3sAlKGsIBCxTUbNi86oSjt\" href=\"https://www.softbank.jp/internet/info/maintenance/?adid=sprt_210830_sprt_m_r_o_o_1_101\" data-cl-params=\"_cl_link:info;_cl_position:0\"><span class=\"fQMqQTGJTbIMxjQwZA2zk _3tGRl6x9iIWRiFTkKl3kcR\">障害・メンテナンス情報</span></a></div></li></ul></div></section><footer id=\"footer\" role=\"contentinfo\" class=\"_2GpKo0TlJwonmUj2nqQxuE ult__mods\"><ul><li class=\"_2dqDKArI6iGaA3nS7xNUmE\"><dl><dt class=\"_2X2lsrA-jZqBKb6bsA9Vnr\"><span class=\"fQMqQTGJTbIMxjQwZA2zk _3tGRl6x9iIWRiFTkKl3kcR\">ヤフー株式会社</span></dt><dd><ul class=\"_3I3C2VL0OPEm7Iyt-OCFz0\"><li class=\"_3b1WmJCwznSYqqf7ptd54g\"><a class=\"yMWCYupQNdgppL-NV6sMi _3sAlKGsIBCxTUbNi86oSjt\" href=\"https://about.yahoo.co.jp/\" data-cl-params=\"_cl_link:comp;_cl_position:0\">会社概要</a></li><li class=\"_3b1WmJCwznSYqqf7ptd54g\"><a class=\"yMWCYupQNdgppL-NV6sMi _3sAlKGsIBCxTUbNi86oSjt\" href=\"https://about.yahoo.co.jp/csr/\" data-cl-params=\"_cl_link:soc;_cl_position:0\">社会的責任</a></li><li class=\"_3b1WmJCwznSYqqf7ptd54g\"><a class=\"yMWCYupQNdgppL-NV6sMi _3sAlKGsIBCxTUbNi86oSjt\" href=\"https://marketing.yahoo.co.jp/\" data-cl-params=\"_cl_link:ad;_cl_position:0\">広告掲載について</a></li><li class=\"_3b1WmJCwznSYqqf7ptd54g\"><a class=\"yMWCYupQNdgppL-NV6sMi _3sAlKGsIBCxTUbNi86oSjt\" href=\"https://about.yahoo.co.jp/hr/\" data-cl-params=\"_cl_link:hr;_cl_position:0\">採用情報</a></li></ul><ul class=\"_3I3C2VL0OPEm7Iyt-OCFz0\"><li class=\"_3b1WmJCwznSYqqf7ptd54g\"><a class=\"yMWCYupQNdgppL-NV6sMi _3sAlKGsIBCxTUbNi86oSjt\" href=\"https://about.yahoo.co.jp/common/terms/\" data-cl-params=\"_cl_link:agreement;_cl_position:0\">利用規約</a></li><li class=\"_3b1WmJCwznSYqqf7ptd54g\"><a class=\"yMWCYupQNdgppL-NV6sMi _3sAlKGsIBCxTUbNi86oSjt\" href=\"https://about.yahoo.co.jp/common/disclaimer/\" data-cl-params=\"_cl_link:disc;_cl_position:0\">免責事項</a></li><li class=\"_3b1WmJCwznSYqqf7ptd54g\"><a class=\"yMWCYupQNdgppL-NV6sMi _3sAlKGsIBCxTUbNi86oSjt\" href=\"https://about.yahoo.co.jp/common/mediastatement/\" data-cl-params=\"_cl_link:state;_cl_position:0\">メディアステートメント</a></li><li class=\"_3b1WmJCwznSYqqf7ptd54g\"><a class=\"yMWCYupQNdgppL-NV6sMi _3sAlKGsIBCxTUbNi86oSjt\" href=\"https://privacy.yahoo.co.jp/\" data-cl-params=\"_cl_link:policy;_cl_position:0\">プライバシー</a></li></ul></dd></dl></li><li class=\"_2dqDKArI6iGaA3nS7xNUmE\"><dl><dt class=\"_2X2lsrA-jZqBKb6bsA9Vnr\"><span class=\"fQMqQTGJTbIMxjQwZA2zk _3tGRl6x9iIWRiFTkKl3kcR\">Zホールディングス株式会社</span></dt><dd><ul class=\"_3I3C2VL0OPEm7Iyt-OCFz0\"><li class=\"_3b1WmJCwznSYqqf7ptd54g\"><a class=\"yMWCYupQNdgppL-NV6sMi _3sAlKGsIBCxTUbNi86oSjt\" href=\"https://www.z-holdings.co.jp/\" data-cl-params=\"_cl_link:z_comp;_cl_position:0\">会社概要</a></li><li class=\"_3b1WmJCwznSYqqf7ptd54g\"><a class=\"yMWCYupQNdgppL-NV6sMi _3sAlKGsIBCxTUbNi86oSjt\" href=\"https://www.z-holdings.co.jp/ir/\" data-cl-params=\"_cl_link:ir;_cl_position:0\">投資家情報</a></li></ul></dd></dl></li></ul><p class=\"_3rCO0-ffBAEkCS8URNYQBC\"><small class=\"_1wf30cBtHv6aK8mAYdYbuo\">© Yahoo Japan</small></p></footer></div></main></div></div><script src=\"https://s.yimg.jp/images/ds/cl/ds-custom-logger-1.1.0.min.js\"></script><script>(function(){\\n  var osmode = \"unknown\";\\n  if (typeof window.matchMedia !== \"undefined\") {\\n    if (window.matchMedia(\"(prefers-color-scheme: dark)\").matches) {\\n      osmode = \"dark\";\\n    } else if (window.matchMedia(\"(prefers-color-scheme: light)\").matches) {\\n      osmode = \"light\";\\n    }\\n  }\\n  var cl = new DSCustomLogger.CustomLogger();\\n  window.__logger = cl.setHierarchyid(\"2079181999\")\\n    .targetClass(\"ult__mods\")\\n    .targetViewableClass(\"vult__mods\")\\n    .startViewable()\\n    .setPageData({\"service\":\"toppage\",\"pagetype\":\"top\",\"status\":\"logout\",\"device\":\"pc\",\"os\":\"other\",\"apptype\":\"web\",\"opttype\":\"pc\",\"mtestid\":\"\",\"ybb\":\"0\",\"premium\":\"0\",\"paypay\":\"0\",\"jis\":\"11107\",\"location\":\"ip\",\"grade\":\"c\"})\\n    .setPageData({ osmode: osmode })\\n    .initCustomLoggerCore();\\n})();</script><script src=\"https://s.yimg.jp/images/ds/yas/ual-2.10.2.min.js\"></script><script>(function(){\\n  window.ualcmds = window.ualcmds || [];\\n  window.ual = window.ual || function() {\\n    ualcmds.push(arguments);\\n  };\\n\\n  ual(\\'config\\', \\'token\\', \\'4465a92c-f0fd-406f-b519-efd409cc9849\\');\\n\\n  ual(\\'global\\', {\\n    service: \"toppage\",\\n    apptype: \"web\",\\n    mtestid: \"\",\\n    opttype: \"pc\"\\n  });\\n  ual(\\'offset\\', {\\n    auto: true\\n  });\\n  ual(\\'ctrl\\', \\'start\\');\\n})();</script></body></html>'"
      ]
     },
     "execution_count": 16,
     "metadata": {},
     "output_type": "execute_result"
    }
   ],
   "source": [
    "res.text"
   ]
  },
  {
   "cell_type": "code",
   "execution_count": 17,
   "metadata": {},
   "outputs": [],
   "source": [
    "response = requests.get(URL,timeout=10)"
   ]
  },
  {
   "cell_type": "code",
   "execution_count": 19,
   "metadata": {},
   "outputs": [
    {
     "data": {
      "text/plain": [
       "'<!DOCTYPE html><html lang=\"ja\"><head><me'"
      ]
     },
     "execution_count": 19,
     "metadata": {},
     "output_type": "execute_result"
    }
   ],
   "source": [
    "response.text[:40]"
   ]
  },
  {
   "cell_type": "code",
   "execution_count": 21,
   "metadata": {},
   "outputs": [],
   "source": [
    "url_google_search = \"https://www.google.com/search\"\n",
    "param = {\"q\":\"python\"}"
   ]
  },
  {
   "cell_type": "code",
   "execution_count": 22,
   "metadata": {},
   "outputs": [],
   "source": [
    "response = requests.get(url_google_search,params=param)"
   ]
  }
 ],
 "metadata": {
  "kernelspec": {
   "display_name": "Python 3",
   "language": "python",
   "name": "python3"
  },
  "language_info": {
   "codemirror_mode": {
    "name": "ipython",
    "version": 3
   },
   "file_extension": ".py",
   "mimetype": "text/x-python",
   "name": "python",
   "nbconvert_exporter": "python",
   "pygments_lexer": "ipython3",
   "version": "3.10.1"
  },
  "orig_nbformat": 4
 },
 "nbformat": 4,
 "nbformat_minor": 2
}
