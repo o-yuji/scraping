{
 "cells": [
  {
   "cell_type": "code",
   "execution_count": 88,
   "metadata": {},
   "outputs": [],
   "source": [
    "from selenium import webdriver\n",
    "from selenium.webdriver.common.by import By\n",
    "from time import sleep"
   ]
  },
  {
   "cell_type": "code",
   "execution_count": 89,
   "metadata": {},
   "outputs": [],
   "source": [
    "USERNAME = \"kuma_00111\"\n",
    "PASSWORD = \"\""
   ]
  },
  {
   "cell_type": "code",
   "execution_count": 90,
   "metadata": {},
   "outputs": [
    {
     "name": "stderr",
     "output_type": "stream",
     "text": [
      "C:\\Users\\yuji_\\AppData\\Local\\Temp\\ipykernel_2412\\617658327.py:1: DeprecationWarning: executable_path has been deprecated, please pass in a Service object\n",
      "  driver = webdriver.Chrome(\"C:\\DATA\\down\\chromedriver\\chromedriver\")\n"
     ]
    }
   ],
   "source": [
    "driver = webdriver.Chrome(\"C:\\DATA\\down\\chromedriver\\chromedriver\")\n",
    "target_url = \"https://www.instagram.com/\"\n",
    "driver.get(target_url)\n",
    "sleep(3)"
   ]
  },
  {
   "cell_type": "code",
   "execution_count": 91,
   "metadata": {},
   "outputs": [],
   "source": [
    "error_flg = False"
   ]
  },
  {
   "cell_type": "code",
   "execution_count": 92,
   "metadata": {},
   "outputs": [],
   "source": [
    "try:\n",
    "    username_input = driver.find_element(By.XPATH,\"//input[@aria-label='電話番号、ユーザーネーム、メールアドレス']\")\n",
    "    username_input.send_keys(USERNAME)\n",
    "    sleep(1)\n",
    "    password_input = driver.find_element(By.XPATH,\"//input[@aria-label='パスワード']\")\n",
    "    password_input.send_keys(PASSWORD)\n",
    "    sleep(1)\n",
    "\n",
    "    login_button = driver.find_element(By.XPATH,\"//button[@type='submit']\")\n",
    "    login_button.submit()\n",
    "    sleep(1)\n",
    "\n",
    "except Exception:\n",
    "    error_flg = True\n",
    "    print(\"ユーザー名、パスワード入力時にエラーが発生しました\")"
   ]
  },
  {
   "cell_type": "code",
   "execution_count": 93,
   "metadata": {},
   "outputs": [],
   "source": [
    "if error_flg is False:\n",
    "    try:\n",
    "        sleep(3)\n",
    "        notnow_button = driver.find_element(By.XPATH,\"//button[text()='後で']\")\n",
    "        notnow_button.click()\n",
    "    \n",
    "    except Exception:\n",
    "        pass"
   ]
  },
  {
   "cell_type": "code",
   "execution_count": 94,
   "metadata": {},
   "outputs": [],
   "source": [
    "target_username = \"paulnicklen\"\n",
    "if error_flg is False:\n",
    "    try:\n",
    "        target_profile_url = target_url + target_username\n",
    "        driver.get(target_profile_url)\n",
    "        sleep(3)\n",
    "    except Exception:\n",
    "        print(\"検索時にエラーが発生しました\")\n",
    "        error_flg = True"
   ]
  }
 ],
 "metadata": {
  "kernelspec": {
   "display_name": "Python 3",
   "language": "python",
   "name": "python3"
  },
  "language_info": {
   "codemirror_mode": {
    "name": "ipython",
    "version": 3
   },
   "file_extension": ".py",
   "mimetype": "text/x-python",
   "name": "python",
   "nbconvert_exporter": "python",
   "pygments_lexer": "ipython3",
   "version": "3.10.1"
  },
  "orig_nbformat": 4
 },
 "nbformat": 4,
 "nbformat_minor": 2
}
