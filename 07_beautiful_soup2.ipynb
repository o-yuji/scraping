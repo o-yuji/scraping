{
 "cells": [
  {
   "cell_type": "code",
   "execution_count": 16,
   "metadata": {},
   "outputs": [],
   "source": [
    "import requests\n",
    "from bs4 import BeautifulSoup"
   ]
  },
  {
   "cell_type": "code",
   "execution_count": 17,
   "metadata": {},
   "outputs": [],
   "source": [
    "url = \"https://www.yomiuri.co.jp/\""
   ]
  },
  {
   "cell_type": "code",
   "execution_count": 18,
   "metadata": {},
   "outputs": [],
   "source": [
    "html_data = requests.get(url).text\n",
    "soup = BeautifulSoup(html_data,'html.parser')"
   ]
  },
  {
   "cell_type": "code",
   "execution_count": 19,
   "metadata": {},
   "outputs": [
    {
     "name": "stdout",
     "output_type": "stream",
     "text": [
      "浅草寺の天井画「龍之図」、剥がれ垂れ下がる…経年劣化か\n",
      "https://www.yomiuri.co.jp/national/20230709-OYT1T50123/\n",
      "山下達郎さん「ジャニーさんの功績への尊敬の念は変わっていない」…性加害問題「知るすべない」\n",
      "https://www.yomiuri.co.jp/culture/20230709-OYT1T50113/\n",
      "Ｇ７都市相会合が閉幕…緑化や省エネ建物の普及で共同宣言、ウクライナ復興支援も明記\n",
      "https://www.yomiuri.co.jp/economy/20230709-OYT1T50118/\n",
      "東京・足立の公園、野球の試合中に熱中症か小学生５人を搬送\n",
      "https://www.yomiuri.co.jp/national/20230709-OYT1T50115/\n",
      "高校野球山形県大会、１チームで「佐藤選手」７人…監督「ベストオーダーで名字は意識なし」\n",
      "https://www.yomiuri.co.jp/sports/koshien/summer/20230709-OYT1T50124/\n",
      "ススキノ切断遺体発見から１週間、浮かぶ「用意周到」な犯人像…２４０人態勢で捜査\n",
      "https://www.yomiuri.co.jp/national/20230709-OYT1T50062/\n",
      "信号機や横断歩道がない交差点、出合い頭の衝突で８０代女性２人重体…茨城・下妻市\n",
      "https://www.yomiuri.co.jp/national/20230709-OYT1T50111/\n",
      "北海道・北見で３５・０度の猛暑日、滝上町も３４・５度…東京・練馬は３３・８度\n",
      "https://www.yomiuri.co.jp/national/20230709-OYT1T50121/\n",
      "両陛下、自動制御連盟世界大会に出席…開会式で水問題に触れる\n",
      "https://www.yomiuri.co.jp/koushitsu/20230709-OYT1T50129/\n",
      "［ワールドビュー］韓国　政治と「食の偽情報」…ソウル支局長　中川孝之\n",
      "https://www.yomiuri.co.jp/world/20230709-OYT1T50047/\n",
      "「よみぽ」１００ポイントが１００人に当たる懸賞付き問題を出題中！\n",
      "/slitherlink/\n"
     ]
    }
   ],
   "source": [
    "title_path = 'body > div.home-2021-primary > div.home-2021-primary__main > div.headline > article > div > h3 > a'\n",
    "elements = soup.select(title_path)\n",
    "for el in elements:\n",
    "    print(el.string)\n",
    "    print(el['href'])"
   ]
  },
  {
   "cell_type": "code",
   "execution_count": 20,
   "metadata": {},
   "outputs": [
    {
     "name": "stdout",
     "output_type": "stream",
     "text": [
      "浅草寺の天井画「龍之図」、剥がれ垂れ下がる…経年劣化か:\n",
      "https://www.yomiuri.co.jp/national/20230709-OYT1T50123/\n",
      "山下達郎さん「ジャニーさんの功績への尊敬の念は変わっていない」…性加害問題「知るすべない」:\n",
      "https://www.yomiuri.co.jp/culture/20230709-OYT1T50113/\n",
      "Ｇ７都市相会合が閉幕…緑化や省エネ建物の普及で共同宣言、ウクライナ復興支援も明記:\n",
      "https://www.yomiuri.co.jp/economy/20230709-OYT1T50118/\n",
      "東京・足立の公園、野球の試合中に熱中症か小学生５人を搬送:\n",
      "https://www.yomiuri.co.jp/national/20230709-OYT1T50115/\n",
      "高校野球山形県大会、１チームで「佐藤選手」７人…監督「ベストオーダーで名字は意識なし」:\n",
      "https://www.yomiuri.co.jp/sports/koshien/summer/20230709-OYT1T50124/\n",
      "ススキノ切断遺体発見から１週間、浮かぶ「用意周到」な犯人像…２４０人態勢で捜査:\n",
      "https://www.yomiuri.co.jp/national/20230709-OYT1T50062/\n",
      "信号機や横断歩道がない交差点、出合い頭の衝突で８０代女性２人重体…茨城・下妻市:\n",
      "https://www.yomiuri.co.jp/national/20230709-OYT1T50111/\n",
      "北海道・北見で３５・０度の猛暑日、滝上町も３４・５度…東京・練馬は３３・８度:\n",
      "https://www.yomiuri.co.jp/national/20230709-OYT1T50121/\n",
      "両陛下、自動制御連盟世界大会に出席…開会式で水問題に触れる:\n",
      "https://www.yomiuri.co.jp/koushitsu/20230709-OYT1T50129/\n",
      "［ワールドビュー］韓国　政治と「食の偽情報」…ソウル支局長　中川孝之:\n",
      "https://www.yomiuri.co.jp/world/20230709-OYT1T50047/\n",
      "「よみぽ」１００ポイントが１００人に当たる懸賞付き問題を出題中！:\n",
      "/slitherlink/\n"
     ]
    }
   ],
   "source": [
    "for el in elements:\n",
    "    print(f\"{el.string}:\")\n",
    "    print(f\"{el['href']}\")"
   ]
  },
  {
   "cell_type": "code",
   "execution_count": 21,
   "metadata": {},
   "outputs": [],
   "source": [
    "import re"
   ]
  },
  {
   "cell_type": "code",
   "execution_count": 22,
   "metadata": {},
   "outputs": [
    {
     "name": "stderr",
     "output_type": "stream",
     "text": [
      "C:\\Users\\yuji_\\AppData\\Local\\Temp\\ipykernel_19256\\3211591487.py:1: DeprecationWarning: The 'text' argument to find()-type methods is deprecated. Use 'string' instead.\n",
      "  soup.find_all(text=re.compile(\"Python3\"))\n"
     ]
    },
    {
     "data": {
      "text/plain": [
       "[]"
      ]
     },
     "execution_count": 22,
     "metadata": {},
     "output_type": "execute_result"
    }
   ],
   "source": [
    "soup.find_all(text=re.compile(\"Python3\"))"
   ]
  },
  {
   "cell_type": "code",
   "execution_count": null,
   "metadata": {},
   "outputs": [],
   "source": []
  }
 ],
 "metadata": {
  "kernelspec": {
   "display_name": "Python 3",
   "language": "python",
   "name": "python3"
  },
  "language_info": {
   "codemirror_mode": {
    "name": "ipython",
    "version": 3
   },
   "file_extension": ".py",
   "mimetype": "text/x-python",
   "name": "python",
   "nbconvert_exporter": "python",
   "pygments_lexer": "ipython3",
   "version": "3.10.1"
  },
  "orig_nbformat": 4
 },
 "nbformat": 4,
 "nbformat_minor": 2
}
