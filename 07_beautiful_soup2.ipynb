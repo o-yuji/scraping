{
 "cells": [
  {
   "cell_type": "code",
   "execution_count": 22,
   "metadata": {},
   "outputs": [],
   "source": [
    "import requests\n",
    "from bs4 import BeautifulSoup"
   ]
  },
  {
   "cell_type": "code",
   "execution_count": 23,
   "metadata": {},
   "outputs": [],
   "source": [
    "url = \"https://www.yomiuri.co.jp/\""
   ]
  },
  {
   "cell_type": "code",
   "execution_count": 24,
   "metadata": {},
   "outputs": [],
   "source": [
    "html_data = requests.get(url).text\n",
    "soup = BeautifulSoup(html_data,'html.parser')"
   ]
  },
  {
   "cell_type": "code",
   "execution_count": 25,
   "metadata": {},
   "outputs": [
    {
     "name": "stdout",
     "output_type": "stream",
     "text": [
      "オオズワイガニ直売会、４０００匹すぐ完売…毛ガニにまじり大量水揚げ「間違いない味」\n",
      "https://www.yomiuri.co.jp/national/20230702-OYT1T50139/\n",
      "フランス各地で暴動、マクロン大統領はドイツ訪問中止…パリ中心部シャンゼリゼ通りでも\n",
      "https://www.yomiuri.co.jp/world/20230702-OYT1T50129/\n",
      "札幌・ススキノのホテルで男性死亡、殺人事件か…部屋で一緒だった人物いるとみて捜査\n",
      "https://www.yomiuri.co.jp/national/20230702-OYT1T50159/\n",
      "プーチン政権、プリゴジン氏事業に圧力…経営メディア閉鎖・軍配食契約打ち切り\n",
      "https://www.yomiuri.co.jp/world/20230702-OYT1T50131/\n",
      "トランプ氏、２０年大統領選後に結果覆そうとアリゾナ州知事に圧力か…米紙報道\n",
      "https://www.yomiuri.co.jp/world/20230702-OYT1T50133/\n",
      "元Ｖ６三宅健さん、滝沢秀明さん設立のＴＯＢＥで活動へ…本人が表明\n",
      "https://www.yomiuri.co.jp/culture/20230702-OYT1T50160/\n",
      "マスク氏、ツイッター閲覧を突然制限…ＡＩ開発企業のデータ収集に対抗か\n",
      "https://www.yomiuri.co.jp/economy/20230702-OYT1T50138/\n",
      "そごう・西武の労組、小売業で異例のスト検討…セブン＆アイによる米ファンドへの売却巡り\n",
      "https://www.yomiuri.co.jp/economy/20230702-OYT1T50146/\n",
      "特急「南紀」、名古屋―紀伊勝浦間に新型車両…「乗り鉄」記者が３時間５７分を堪能\n",
      "https://www.yomiuri.co.jp/national/20230701-OYT1T50240/\n",
      "さよならイニエスタ、５年間過ごした神戸に感謝の５７分\n",
      "https://www.yomiuri.co.jp/sports/soccer/jleague/20230702-OYT1T50003/\n",
      "「よみぽ」１００ポイントが１００人に当たる懸賞付き問題を出題中！\n",
      "/slitherlink/\n"
     ]
    }
   ],
   "source": [
    "title_path = 'body > div.home-2021-primary > div.home-2021-primary__main > div.headline > article > div > h3 > a'\n",
    "elements = soup.select(title_path)\n",
    "for el in elements:\n",
    "    print(el.string)\n",
    "    print(el['href'])"
   ]
  },
  {
   "cell_type": "code",
   "execution_count": 27,
   "metadata": {},
   "outputs": [
    {
     "name": "stdout",
     "output_type": "stream",
     "text": [
      "オオズワイガニ直売会、４０００匹すぐ完売…毛ガニにまじり大量水揚げ「間違いない味」:\n",
      "https://www.yomiuri.co.jp/national/20230702-OYT1T50139/\n",
      "フランス各地で暴動、マクロン大統領はドイツ訪問中止…パリ中心部シャンゼリゼ通りでも:\n",
      "https://www.yomiuri.co.jp/world/20230702-OYT1T50129/\n",
      "札幌・ススキノのホテルで男性死亡、殺人事件か…部屋で一緒だった人物いるとみて捜査:\n",
      "https://www.yomiuri.co.jp/national/20230702-OYT1T50159/\n",
      "プーチン政権、プリゴジン氏事業に圧力…経営メディア閉鎖・軍配食契約打ち切り:\n",
      "https://www.yomiuri.co.jp/world/20230702-OYT1T50131/\n",
      "トランプ氏、２０年大統領選後に結果覆そうとアリゾナ州知事に圧力か…米紙報道:\n",
      "https://www.yomiuri.co.jp/world/20230702-OYT1T50133/\n",
      "元Ｖ６三宅健さん、滝沢秀明さん設立のＴＯＢＥで活動へ…本人が表明:\n",
      "https://www.yomiuri.co.jp/culture/20230702-OYT1T50160/\n",
      "マスク氏、ツイッター閲覧を突然制限…ＡＩ開発企業のデータ収集に対抗か:\n",
      "https://www.yomiuri.co.jp/economy/20230702-OYT1T50138/\n",
      "そごう・西武の労組、小売業で異例のスト検討…セブン＆アイによる米ファンドへの売却巡り:\n",
      "https://www.yomiuri.co.jp/economy/20230702-OYT1T50146/\n",
      "特急「南紀」、名古屋―紀伊勝浦間に新型車両…「乗り鉄」記者が３時間５７分を堪能:\n",
      "https://www.yomiuri.co.jp/national/20230701-OYT1T50240/\n",
      "さよならイニエスタ、５年間過ごした神戸に感謝の５７分:\n",
      "https://www.yomiuri.co.jp/sports/soccer/jleague/20230702-OYT1T50003/\n",
      "「よみぽ」１００ポイントが１００人に当たる懸賞付き問題を出題中！:\n",
      "/slitherlink/\n"
     ]
    }
   ],
   "source": [
    "for el in elements:\n",
    "    print(f\"{el.string}:\")\n",
    "    print(f\"{el['href']}\")"
   ]
  },
  {
   "cell_type": "code",
   "execution_count": null,
   "metadata": {},
   "outputs": [],
   "source": []
  }
 ],
 "metadata": {
  "kernelspec": {
   "display_name": "Python 3",
   "language": "python",
   "name": "python3"
  },
  "language_info": {
   "codemirror_mode": {
    "name": "ipython",
    "version": 3
   },
   "file_extension": ".py",
   "mimetype": "text/x-python",
   "name": "python",
   "nbconvert_exporter": "python",
   "pygments_lexer": "ipython3",
   "version": "3.10.1"
  },
  "orig_nbformat": 4
 },
 "nbformat": 4,
 "nbformat_minor": 2
}
