{
 "cells": [
  {
   "cell_type": "code",
   "execution_count": 128,
   "metadata": {},
   "outputs": [],
   "source": [
    "import requests\n",
    "from bs4 import BeautifulSoup\n",
    "import time\n",
    "import re"
   ]
  },
  {
   "cell_type": "code",
   "execution_count": 129,
   "metadata": {},
   "outputs": [],
   "source": [
    "top_url = \"https://www.yahoo.co.jp/\"\n",
    "user_agent = \"Mozilla/5.0 (Windows NT 10.0; Win64; x64) AppleWebKit/537.36 (KHTML, like Gecko) Chrome/114.0.0.0 Safari/537.36\""
   ]
  },
  {
   "cell_type": "code",
   "execution_count": 130,
   "metadata": {},
   "outputs": [],
   "source": [
    "res = requests.get(top_url,headers={\"User-Agent\":user_agent})\n",
    "soup = BeautifulSoup(res.text,'html.parser')"
   ]
  },
  {
   "cell_type": "code",
   "execution_count": 131,
   "metadata": {},
   "outputs": [],
   "source": [
    "elems = soup.find_all(href=re.compile(\"news.yahoo.co.jp/pickup\"))"
   ]
  },
  {
   "cell_type": "code",
   "execution_count": 132,
   "metadata": {},
   "outputs": [
    {
     "name": "stdout",
     "output_type": "stream",
     "text": [
      "九州南部で大雨恐れ 厳重な警戒を\n",
      "https://news.yahoo.co.jp/pickup/6468351\n",
      "AI開発者の認証制度 政府が検討へ\n",
      "https://news.yahoo.co.jp/pickup/6468355\n",
      "プリゴジン氏 7日ぶり音声公表か\n",
      "https://news.yahoo.co.jp/pickup/6468356\n",
      "土砂が壁突き破り本堂倒壊 熊本\n",
      "https://news.yahoo.co.jp/pickup/6468358\n",
      "特別支援児童に転校促し謝罪 札幌\n",
      "https://news.yahoo.co.jp/pickup/6468353\n",
      "大谷翔平、月間&週間MVPを受賞\n",
      "https://news.yahoo.co.jp/pickup/6468354\n",
      "大谷 31号球回収を撤回し少年へ\n",
      "https://news.yahoo.co.jp/pickup/6468352\n",
      "GACKT50歳に 海に散骨してくれ\n",
      "https://news.yahoo.co.jp/pickup/6468360\n"
     ]
    }
   ],
   "source": [
    "for el in elems:\n",
    "    print(el.span.string)\n",
    "    print(el.attrs['href'])"
   ]
  },
  {
   "cell_type": "code",
   "execution_count": 133,
   "metadata": {},
   "outputs": [
    {
     "data": {
      "text/plain": [
       "['https://news.yahoo.co.jp/pickup/6468351',\n",
       " 'https://news.yahoo.co.jp/pickup/6468355',\n",
       " 'https://news.yahoo.co.jp/pickup/6468356',\n",
       " 'https://news.yahoo.co.jp/pickup/6468358',\n",
       " 'https://news.yahoo.co.jp/pickup/6468353',\n",
       " 'https://news.yahoo.co.jp/pickup/6468354',\n",
       " 'https://news.yahoo.co.jp/pickup/6468352',\n",
       " 'https://news.yahoo.co.jp/pickup/6468360']"
      ]
     },
     "execution_count": 133,
     "metadata": {},
     "output_type": "execute_result"
    }
   ],
   "source": [
    "pickup_links = [el.attrs[\"href\"] for el in elems]\n",
    "pickup_links"
   ]
  },
  {
   "cell_type": "code",
   "execution_count": 134,
   "metadata": {},
   "outputs": [
    {
     "name": "stdout",
     "output_type": "stream",
     "text": [
      "九州南部で大雨恐れ 厳重な警戒を - Yahoo!ニュース\n",
      "https://news.yahoo.co.jp/articles/9d24d52da49089a97548f67fe19cc728db9a84d0\n",
      "None\n",
      "\n",
      "\n",
      "\n",
      "AI開発者の認証制度 政府が検討へ - Yahoo!ニュース\n",
      "https://news.yahoo.co.jp/articles/e90cc00e67a5a7b871773743075baff76062c9bc\n",
      "None\n",
      "\n",
      "\n",
      "\n",
      "プリゴジン氏 7日ぶり音声公表か - Yahoo!ニュース\n",
      "https://news.yahoo.co.jp/articles/82b23b26bce0eacb803c007b6616a55e38db1617\n",
      "None\n",
      "\n",
      "\n",
      "\n",
      "土砂が壁突き破り本堂倒壊 熊本 - Yahoo!ニュース\n",
      "https://news.yahoo.co.jp/articles/be825e26f21a80081877aaacc27f1a597ee4d2b0\n",
      "None\n",
      "\n",
      "\n",
      "\n",
      "特別支援児童に転校促し謝罪 札幌 - Yahoo!ニュース\n",
      "https://news.yahoo.co.jp/articles/940dd37c50dc3962485aeff873fd707172b8647b\n",
      "None\n",
      "\n",
      "\n",
      "\n",
      "大谷翔平、月間&週間MVPを受賞 - Yahoo!ニュース\n",
      "https://news.yahoo.co.jp/articles/54b3a7eeaedecb7d9179462677c92524638f6e04\n",
      "None\n",
      "\n",
      "\n",
      "\n",
      "大谷 31号球回収を撤回し少年へ - Yahoo!ニュース\n",
      "https://news.yahoo.co.jp/articles/83524f4831c4f31983d0949f31d0a161fa0fcf38\n",
      "None\n",
      "\n",
      "\n",
      "\n",
      "GACKT50歳に 海に散骨してくれ - Yahoo!ニュース\n",
      "https://news.yahoo.co.jp/articles/1d9cf92309815982cc6fa71684362c64fc9763ea\n",
      "None\n",
      "\n",
      "\n",
      "\n"
     ]
    }
   ],
   "source": [
    "article_urls = []\n",
    "for pickup_link in pickup_links:\n",
    "    res2 = requests.get(pickup_link,headers={'User-Agent':user_agent})\n",
    "    soup2 = BeautifulSoup(res2.text,'html.parser')\n",
    "    article_url = soup2.select('#uamods-pickup > div.sc-fgdcDH.gehpnq > div > p > a')[0].attrs['href']\n",
    "    # article_urls.append(article_url)\n",
    "    # print(article_url)\n",
    "    res3 = requests.get(article_url,headers={\"User-Agent\":user_agent})\n",
    "    soup3 = BeautifulSoup(res.text,'html.parser')\n",
    "\n",
    "    print(soup2.title.text)\n",
    "    print(article_url)\n",
    "\n",
    "    detail_text = soup3.select_one('#uamods > div.article_body.highLightSearchTarget > div:nth-child(1) > p')\n",
    "    print(detail_text.text if hasattr(detail_text,'text') else 'None', end=\"\\n\\n\\n\\n\")\n",
    "\n",
    "    time.sleep(1)\n"
   ]
  },
  {
   "cell_type": "code",
   "execution_count": 135,
   "metadata": {},
   "outputs": [],
   "source": [
    "# for url3 in article_urls:\n",
    "#     res3 = requests.get(url3,headers={\"User-Agent\":user_agent})\n",
    "#     soup3 = BeautifulSoup(res.text,'html.parser')\n",
    "#     data = soup3.select('#uamods > div.article_body.highLightSearchTarget > div > p')\n",
    "#     print(data)"
   ]
  },
  {
   "cell_type": "code",
   "execution_count": null,
   "metadata": {},
   "outputs": [],
   "source": []
  }
 ],
 "metadata": {
  "kernelspec": {
   "display_name": "Python 3",
   "language": "python",
   "name": "python3"
  },
  "language_info": {
   "codemirror_mode": {
    "name": "ipython",
    "version": 3
   },
   "file_extension": ".py",
   "mimetype": "text/x-python",
   "name": "python",
   "nbconvert_exporter": "python",
   "pygments_lexer": "ipython3",
   "version": "3.10.1"
  },
  "orig_nbformat": 4
 },
 "nbformat": 4,
 "nbformat_minor": 2
}
